{
  "nbformat": 4,
  "nbformat_minor": 0,
  "metadata": {
    "colab": {
      "name": "Convolutional Neural Networks_1",
      "provenance": [],
      "collapsed_sections": [],
      "authorship_tag": "ABX9TyOh/pzgha5NzTQJ4E2JzqRx",
      "include_colab_link": true
    },
    "kernelspec": {
      "name": "python3",
      "display_name": "Python 3"
    },
    "language_info": {
      "name": "python"
    },
    "accelerator": "GPU"
  },
  "cells": [
    {
      "cell_type": "markdown",
      "metadata": {
        "id": "view-in-github",
        "colab_type": "text"
      },
      "source": [
        "<a href=\"https://colab.research.google.com/github/BrightonMboya/Deep_Learning-with-TensorFlow/blob/CNNs/Convolutional_Neural_Networks_1.ipynb\" target=\"_parent\"><img src=\"https://colab.research.google.com/assets/colab-badge.svg\" alt=\"Open In Colab\"/></a>"
      ]
    },
    {
      "cell_type": "code",
      "metadata": {
        "id": "vB8Bzi_WnFdD"
      },
      "source": [
        ""
      ],
      "execution_count": 2,
      "outputs": []
    },
    {
      "cell_type": "markdown",
      "metadata": {
        "id": "As1od_ACnaLy"
      },
      "source": [
        "What we're going to cover\n",
        "<br>\n",
        "Specifically, we're going to go through the follow with TensorFlow:\n",
        "\n",
        "<br>\n",
        "Getting a dataset to work with\n",
        "<br>\n",
        "Architecture of a convolutional neural network\n",
        "<br>\n",
        "A quick end-to-end example (what we're working towards)\n",
        "<br>\n",
        "Steps in modelling for binary image classification with CNNs\n",
        "<br>\n",
        "Becoming one with the data\n",
        "<br>\n",
        "Preparing data for modelling\n",
        "<br>\n",
        "Creating a CNN model (starting with a baseline)\n",
        "<br>\n",
        "Fitting a model (getting it to find patterns in our data)\n",
        "<br>\n",
        "Evaluating a model\n",
        "<br>\n",
        "Improving a model\n",
        "<br>\n",
        "Making a prediction with a trained model\n",
        "<br>\n",
        "Steps in modelling for multi-class image classification with CNNs\n",
        "<br>\n",
        "Same as above (but this time with a different dataset)"
      ]
    },
    {
      "cell_type": "markdown",
      "metadata": {
        "id": "zUVP33DanepJ"
      },
      "source": [
        ""
      ]
    },
    {
      "cell_type": "markdown",
      "metadata": {
        "id": "RDE0DDLRnv-H"
      },
      "source": [
        "## Get the data\n",
        "Because convolutional neural networks work so well with images, to learn more about them, we're going to start with a dataset of images.\n",
        "\n",
        "The images we're going to work with are from the Food-101 dataset, a collection of 101 different categories of 101,000 (1000 images per category) real-world images of food dishes.\n",
        "\n",
        "To begin, we're only going to use two of the categories, pizza 🍕 and steak 🥩 and build a binary classifier.\n",
        "\n",
        "🔑 Note: To prepare the data we're using, preprocessing steps such as, moving the images into different subset folders, have been done. To see these preprocessing steps check out the preprocessing notebook."
      ]
    },
    {
      "cell_type": "code",
      "metadata": {
        "colab": {
          "base_uri": "https://localhost:8080/"
        },
        "id": "x78YlFOUnb-q",
        "outputId": "73c3e8b3-e56d-488d-f469-7d5f1827bfd9"
      },
      "source": [
        "import zipfile \n",
        "\n",
        "#get the data from the web\n",
        "!wget https://storage.googleapis.com/ztm_tf_course/food_vision/pizza_steak.zip\n",
        "\n",
        "zip_ref= zipfile.ZipFile('pizza_steak.zip', 'r')\n",
        "zip_ref.extractall()\n",
        "zip_ref.close()"
      ],
      "execution_count": 3,
      "outputs": [
        {
          "output_type": "stream",
          "text": [
            "--2021-08-10 10:19:25--  https://storage.googleapis.com/ztm_tf_course/food_vision/pizza_steak.zip\n",
            "Resolving storage.googleapis.com (storage.googleapis.com)... 74.125.142.128, 74.125.195.128, 172.253.117.128, ...\n",
            "Connecting to storage.googleapis.com (storage.googleapis.com)|74.125.142.128|:443... connected.\n",
            "HTTP request sent, awaiting response... 200 OK\n",
            "Length: 109579078 (105M) [application/zip]\n",
            "Saving to: ‘pizza_steak.zip’\n",
            "\n",
            "pizza_steak.zip     100%[===================>] 104.50M   193MB/s    in 0.5s    \n",
            "\n",
            "2021-08-10 10:19:26 (193 MB/s) - ‘pizza_steak.zip’ saved [109579078/109579078]\n",
            "\n"
          ],
          "name": "stdout"
        }
      ]
    },
    {
      "cell_type": "markdown",
      "metadata": {
        "id": "nEeCkx5Bofrl"
      },
      "source": [
        "## Inspect the data (become one with it)\n",
        "A very crucial step at the beginning of any machine learning project is becoming one with the data. This usually means plenty of visualizing and folder scanning to understand the data you're working with.\n",
        "\n",
        "Wtih this being said, let's inspect the data we just downloaded.\n",
        "\n",
        "The file structure has been formatted to be in a typical format you might use for working with images.\n",
        "\n",
        "More specifically:\n",
        "\n",
        "A `train` directory which contains all of the images in the training dataset with subdirectories each named after a certain class containing images of that class.\n",
        "A `test` directory with the same structure as the train directory."
      ]
    },
    {
      "cell_type": "code",
      "metadata": {
        "colab": {
          "base_uri": "https://localhost:8080/"
        },
        "id": "sCmwyWhWooa6",
        "outputId": "a3668216-ef8b-4e07-c59f-d442fda75aa8"
      },
      "source": [
        "# lets inspect the data which we imported\n",
        "!ls pizza_steak"
      ],
      "execution_count": 4,
      "outputs": [
        {
          "output_type": "stream",
          "text": [
            "test  train\n"
          ],
          "name": "stdout"
        }
      ]
    },
    {
      "cell_type": "markdown",
      "metadata": {
        "id": "lgpiCPm8qPua"
      },
      "source": [
        "we can see we have `test` and `train` folder\n",
        "<br>\n",
        "let's see what we have inside them"
      ]
    },
    {
      "cell_type": "code",
      "metadata": {
        "colab": {
          "base_uri": "https://localhost:8080/"
        },
        "id": "XtzqeF6MqbSk",
        "outputId": "752b26cf-b3ef-420e-8389-af9aa4979368"
      },
      "source": [
        "! ls pizza_steak/train\n"
      ],
      "execution_count": 5,
      "outputs": [
        {
          "output_type": "stream",
          "text": [
            "pizza  steak\n"
          ],
          "name": "stdout"
        }
      ]
    },
    {
      "cell_type": "code",
      "metadata": {
        "colab": {
          "base_uri": "https://localhost:8080/"
        },
        "id": "Cr4hRJ_IqgSi",
        "outputId": "a0f99092-2192-49c0-b8be-d723a15de981"
      },
      "source": [
        "#what about the steak directory\n",
        "! ls pizza_steak/train/steak/"
      ],
      "execution_count": 6,
      "outputs": [
        {
          "output_type": "stream",
          "text": [
            "1000205.jpg  1647351.jpg  2238681.jpg  2824680.jpg  3375959.jpg  417368.jpg\n",
            "100135.jpg   1650002.jpg  2238802.jpg  2825100.jpg  3381560.jpg  4176.jpg\n",
            "101312.jpg   165639.jpg   2254705.jpg  2826987.jpg  3382936.jpg  42125.jpg\n",
            "1021458.jpg  1658186.jpg  225990.jpg   2832499.jpg  3386119.jpg  421476.jpg\n",
            "1032846.jpg  1658443.jpg  2260231.jpg  2832960.jpg  3388717.jpg  421561.jpg\n",
            "10380.jpg    165964.jpg   2268692.jpg  285045.jpg   3389138.jpg  438871.jpg\n",
            "1049459.jpg  167069.jpg   2271133.jpg  285147.jpg   3393547.jpg  43924.jpg\n",
            "1053665.jpg  1675632.jpg  227576.jpg   2855315.jpg  3393688.jpg  440188.jpg\n",
            "1068516.jpg  1678108.jpg  2283057.jpg  2856066.jpg  3396589.jpg  442757.jpg\n",
            "1068975.jpg  168006.jpg   2286639.jpg  2859933.jpg  339891.jpg\t 443210.jpg\n",
            "1081258.jpg  1682496.jpg  2287136.jpg  286219.jpg   3417789.jpg  444064.jpg\n",
            "1090122.jpg  1684438.jpg  2291292.jpg  2862562.jpg  3425047.jpg  444709.jpg\n",
            "1093966.jpg  168775.jpg   229323.jpg   2865730.jpg  3434983.jpg  447557.jpg\n",
            "1098844.jpg  1697339.jpg  2300534.jpg  2878151.jpg  3435358.jpg  461187.jpg\n",
            "1100074.jpg  1710569.jpg  2300845.jpg  2880035.jpg  3438319.jpg  461689.jpg\n",
            "1105280.jpg  1714605.jpg  231296.jpg   2881783.jpg  3444407.jpg  465494.jpg\n",
            "1117936.jpg  1724387.jpg  2315295.jpg  2884233.jpg  345734.jpg\t 468384.jpg\n",
            "1126126.jpg  1724717.jpg  2323132.jpg  2890573.jpg  3460673.jpg  477486.jpg\n",
            "114601.jpg   172936.jpg   2324994.jpg  2893832.jpg  3465327.jpg  482022.jpg\n",
            "1147047.jpg  1736543.jpg  2327701.jpg  2893892.jpg  3466159.jpg  482465.jpg\n",
            "1147883.jpg  1736968.jpg  2331076.jpg  2907177.jpg  3469024.jpg  483788.jpg\n",
            "1155665.jpg  1746626.jpg  233964.jpg   290850.jpg   3470083.jpg  493029.jpg\n",
            "1163977.jpg  1752330.jpg  2344227.jpg  2909031.jpg  3476564.jpg  503589.jpg\n",
            "1190233.jpg  1761285.jpg  234626.jpg   2910418.jpg  3478318.jpg  510757.jpg\n",
            "1208405.jpg  176508.jpg   234704.jpg   2912290.jpg  3488748.jpg  513129.jpg\n",
            "1209120.jpg  1772039.jpg  2357281.jpg  2916448.jpg  3492328.jpg  513842.jpg\n",
            "1212161.jpg  1777107.jpg  2361812.jpg  2916967.jpg  3518960.jpg  523535.jpg\n",
            "1213988.jpg  1787505.jpg  2365287.jpg  2927833.jpg  3522209.jpg  525041.jpg\n",
            "1219039.jpg  179293.jpg   2374582.jpg  2928643.jpg  3524429.jpg  534560.jpg\n",
            "1225762.jpg  1816235.jpg  239025.jpg   2929179.jpg  3528458.jpg  534633.jpg\n",
            "1230968.jpg  1822407.jpg  2390628.jpg  2936477.jpg  3531805.jpg  536535.jpg\n",
            "1236155.jpg  1823263.jpg  2392910.jpg  2938012.jpg  3536023.jpg  541410.jpg\n",
            "1241193.jpg  1826066.jpg  2394465.jpg  2938151.jpg  3538682.jpg  543691.jpg\n",
            "1248337.jpg  1828502.jpg  2395127.jpg  2939678.jpg  3540750.jpg  560503.jpg\n",
            "1257104.jpg  1828969.jpg  2396291.jpg  2940544.jpg  354329.jpg\t 561972.jpg\n",
            "126345.jpg   1829045.jpg  2400975.jpg  2940621.jpg  3547166.jpg  56240.jpg\n",
            "1264050.jpg  1829088.jpg  2403776.jpg  2949079.jpg  3553911.jpg  56409.jpg\n",
            "1264154.jpg  1836332.jpg  2403907.jpg  295491.jpg   3556871.jpg  564530.jpg\n",
            "1264858.jpg  1839025.jpg  240435.jpg   296268.jpg   355715.jpg\t 568972.jpg\n",
            "127029.jpg   1839481.jpg  2404695.jpg  2964732.jpg  356234.jpg\t 576725.jpg\n",
            "1289900.jpg  183995.jpg   2404884.jpg  2965021.jpg  3571963.jpg  588739.jpg\n",
            "1290362.jpg  184110.jpg   2407770.jpg  2966859.jpg  3576078.jpg  590142.jpg\n",
            "1295457.jpg  184226.jpg   2412263.jpg  2977966.jpg  3577618.jpg  60633.jpg\n",
            "1312841.jpg  1846706.jpg  2425062.jpg  2979061.jpg  3577732.jpg  60655.jpg\n",
            "1313316.jpg  1849364.jpg  2425389.jpg  2983260.jpg  3578934.jpg  606820.jpg\n",
            "1324791.jpg  1849463.jpg  2435316.jpg  2984311.jpg  358042.jpg\t 612551.jpg\n",
            "1327567.jpg  1849542.jpg  2437268.jpg  2988960.jpg  358045.jpg\t 614975.jpg\n",
            "1327667.jpg  1853564.jpg  2437843.jpg  2989882.jpg  3591821.jpg  616809.jpg\n",
            "1333055.jpg  1869467.jpg  2440131.jpg  2995169.jpg  359330.jpg\t 628628.jpg\n",
            "1334054.jpg  1870942.jpg  2443168.jpg  2996324.jpg  3601483.jpg  632427.jpg\n",
            "1335556.jpg  187303.jpg   2446660.jpg  3000131.jpg  3606642.jpg  636594.jpg\n",
            "1337814.jpg  187521.jpg   2455944.jpg  3002350.jpg  3609394.jpg  637374.jpg\n",
            "1340977.jpg  1888450.jpg  2458401.jpg  3007772.jpg  361067.jpg\t 640539.jpg\n",
            "1343209.jpg  1889336.jpg  2487306.jpg  3008192.jpg  3613455.jpg  644777.jpg\n",
            "134369.jpg   1907039.jpg  248841.jpg   3009617.jpg  3621464.jpg  644867.jpg\n",
            "1344105.jpg  1925230.jpg  2489716.jpg  3011642.jpg  3621562.jpg  658189.jpg\n",
            "134598.jpg   1927984.jpg  2490489.jpg  3020591.jpg  3621565.jpg  660900.jpg\n",
            "1346387.jpg  1930577.jpg  2495884.jpg  3030578.jpg  3623556.jpg  663014.jpg\n",
            "1348047.jpg  1937872.jpg  2495903.jpg  3047807.jpg  3640915.jpg  664545.jpg\n",
            "1351372.jpg  1941807.jpg  2499364.jpg  3059843.jpg  3643951.jpg  667075.jpg\n",
            "1362989.jpg  1942333.jpg  2500292.jpg  3074367.jpg  3653129.jpg  669180.jpg\n",
            "1367035.jpg  1945132.jpg  2509017.jpg  3082120.jpg  3656752.jpg  669960.jpg\n",
            "1371177.jpg  1961025.jpg  250978.jpg   3094354.jpg  3663518.jpg  6709.jpg\n",
            "1375640.jpg  1966300.jpg  2514432.jpg  3095301.jpg  3663800.jpg  674001.jpg\n",
            "1382427.jpg  1966967.jpg  2526838.jpg  3099645.jpg  3664376.jpg  676189.jpg\n",
            "1392718.jpg  1969596.jpg  252858.jpg   3100476.jpg  3670607.jpg  681609.jpg\n",
            "1395906.jpg  1971757.jpg  2532239.jpg  3110387.jpg  3671021.jpg  6926.jpg\n",
            "1400760.jpg  1976160.jpg  2534567.jpg  3113772.jpg  3671877.jpg  703556.jpg\n",
            "1403005.jpg  1984271.jpg  2535431.jpg  3116018.jpg  368073.jpg\t 703909.jpg\n",
            "1404770.jpg  1987213.jpg  2535456.jpg  3128952.jpg  368162.jpg\t 704316.jpg\n",
            "140832.jpg   1987639.jpg  2538000.jpg  3130412.jpg  368170.jpg\t 714298.jpg\n",
            "141056.jpg   1995118.jpg  2543081.jpg  3136.jpg     3693649.jpg  720060.jpg\n",
            "141135.jpg   1995252.jpg  2544643.jpg  313851.jpg   3700079.jpg  726083.jpg\n",
            "1413972.jpg  199754.jpg   2547797.jpg  3140083.jpg  3704103.jpg  728020.jpg\n",
            "1421393.jpg  2002400.jpg  2548974.jpg  3140147.jpg  3707493.jpg  732986.jpg\n",
            "1428947.jpg  2011264.jpg  2549316.jpg  3142045.jpg  3716881.jpg  734445.jpg\n",
            "1433912.jpg  2012996.jpg  2561199.jpg  3142618.jpg  3724677.jpg  735441.jpg\n",
            "143490.jpg   2013535.jpg  2563233.jpg  3142674.jpg  3727036.jpg  740090.jpg\n",
            "1445352.jpg  2017387.jpg  256592.jpg   3143192.jpg  3727491.jpg  745189.jpg\n",
            "1446401.jpg  2018173.jpg  2568848.jpg  314359.jpg   3736065.jpg  752203.jpg\n",
            "1453991.jpg  2020613.jpg  2573392.jpg  3157832.jpg  37384.jpg\t 75537.jpg\n",
            "1456841.jpg  2032669.jpg  2592401.jpg  3159818.jpg  3743286.jpg  756655.jpg\n",
            "146833.jpg   203450.jpg   2599817.jpg  3162376.jpg  3745515.jpg  762210.jpg\n",
            "1476404.jpg  2034628.jpg  2603058.jpg  3168620.jpg  3750472.jpg  763690.jpg\n",
            "1485083.jpg  2036920.jpg  2606444.jpg  3171085.jpg  3752362.jpg  767442.jpg\n",
            "1487113.jpg  2038418.jpg  2614189.jpg  317206.jpg   3766099.jpg  786409.jpg\n",
            "148916.jpg   2042975.jpg  2614649.jpg  3173444.jpg  3770370.jpg  80215.jpg\n",
            "149087.jpg   2045647.jpg  2615718.jpg  3180182.jpg  377190.jpg\t 802348.jpg\n",
            "1493169.jpg  2050584.jpg  2619625.jpg  31881.jpg    3777020.jpg  804684.jpg\n",
            "149682.jpg   2052542.jpg  2622140.jpg  3191589.jpg  3777482.jpg  812163.jpg\n",
            "1508094.jpg  2056627.jpg  262321.jpg   3204977.jpg  3781152.jpg  813486.jpg\n",
            "1512226.jpg  2062248.jpg  2625330.jpg  320658.jpg   3787809.jpg  819027.jpg\n",
            "1512347.jpg  2081995.jpg  2628106.jpg  3209173.jpg  3788729.jpg  822550.jpg\n",
            "1524526.jpg  2087958.jpg  2629750.jpg  3223400.jpg  3790962.jpg  823766.jpg\n",
            "1530833.jpg  2088030.jpg  2643906.jpg  3223601.jpg  3792514.jpg  827764.jpg\n",
            "1539499.jpg  2088195.jpg  2644457.jpg  3241894.jpg  379737.jpg\t 830007.jpg\n",
            "1541672.jpg  2090493.jpg  2648423.jpg  3245533.jpg  3807440.jpg  838344.jpg\n",
            "1548239.jpg  2090504.jpg  2651300.jpg  3245622.jpg  381162.jpg\t 853327.jpg\n",
            "1550997.jpg  2125877.jpg  2653594.jpg  3247009.jpg  3812039.jpg  854150.jpg\n",
            "1552530.jpg  2129685.jpg  2661577.jpg  3253588.jpg  3829392.jpg  864997.jpg\n",
            "15580.jpg    2133717.jpg  2668916.jpg  3260624.jpg  3830872.jpg  885571.jpg\n",
            "1559052.jpg  2136662.jpg  268444.jpg   326587.jpg   38442.jpg\t 907107.jpg\n",
            "1563266.jpg  213765.jpg   2691461.jpg  32693.jpg    3855584.jpg  908261.jpg\n",
            "1567554.jpg  2138335.jpg  2706403.jpg  3271253.jpg  3857508.jpg  910672.jpg\n",
            "1575322.jpg  2140776.jpg  270687.jpg   3274423.jpg  386335.jpg\t 911803.jpg\n",
            "1588879.jpg  214320.jpg   2707522.jpg  3280453.jpg  3867460.jpg  91432.jpg\n",
            "1594719.jpg  2146963.jpg  2711806.jpg  3298495.jpg  3868959.jpg  914570.jpg\n",
            "1595869.jpg  215222.jpg   2716993.jpg  330182.jpg   3869679.jpg  922752.jpg\n",
            "1598345.jpg  2154126.jpg  2724554.jpg  3306627.jpg  388776.jpg\t 923772.jpg\n",
            "1598885.jpg  2154779.jpg  2738227.jpg  3315727.jpg  3890465.jpg  926414.jpg\n",
            "1600179.jpg  2159975.jpg  2748917.jpg  331860.jpg   3894222.jpg  931356.jpg\n",
            "1600794.jpg  2163079.jpg  2760475.jpg  332232.jpg   3895825.jpg  937133.jpg\n",
            "160552.jpg   217250.jpg   2761427.jpg  3322909.jpg  389739.jpg\t 945791.jpg\n",
            "1606596.jpg  2172600.jpg  2765887.jpg  332557.jpg   3916407.jpg  947877.jpg\n",
            "1615395.jpg  2173084.jpg  2768451.jpg  3326734.jpg  393349.jpg\t 952407.jpg\n",
            "1618011.jpg  217996.jpg   2771149.jpg  3330642.jpg  393494.jpg\t 952437.jpg\n",
            "1619357.jpg  2193684.jpg  2779040.jpg  3333128.jpg  398288.jpg\t 955466.jpg\n",
            "1621763.jpg  220341.jpg   2788312.jpg  3333735.jpg  40094.jpg\t 9555.jpg\n",
            "1623325.jpg  22080.jpg\t  2788759.jpg  3334973.jpg  401094.jpg\t 961341.jpg\n",
            "1624450.jpg  2216146.jpg  2796102.jpg  3335013.jpg  401144.jpg\t 97656.jpg\n",
            "1624747.jpg  2222018.jpg  280284.jpg   3335267.jpg  401651.jpg\t 979110.jpg\n",
            "1628861.jpg  2223787.jpg  2807888.jpg  3346787.jpg  405173.jpg\t 980247.jpg\n",
            "1632774.jpg  2230959.jpg  2815172.jpg  3364420.jpg  405794.jpg\t 982988.jpg\n",
            "1636831.jpg  2232310.jpg  2818805.jpg  336637.jpg   40762.jpg\t 987732.jpg\n",
            "1645470.jpg  2233395.jpg  2823872.jpg  3372616.jpg  413325.jpg\t 996684.jpg\n"
          ],
          "name": "stdout"
        }
      ]
    },
    {
      "cell_type": "code",
      "metadata": {
        "colab": {
          "base_uri": "https://localhost:8080/"
        },
        "id": "QowND395qs8n",
        "outputId": "d997f46e-0bb1-4788-d289-9d6d6c70160e"
      },
      "source": [
        "# what about the test folder\n",
        "! ls pizza_steak/test/"
      ],
      "execution_count": 7,
      "outputs": [
        {
          "output_type": "stream",
          "text": [
            "pizza  steak\n"
          ],
          "name": "stdout"
        }
      ]
    },
    {
      "cell_type": "code",
      "metadata": {
        "colab": {
          "base_uri": "https://localhost:8080/"
        },
        "id": "nd1CznqSrKNI",
        "outputId": "741b4318-30ff-4595-85bf-6ceb0a6a833d"
      },
      "source": [
        "! ls pizza_steak/test/steak/"
      ],
      "execution_count": 8,
      "outputs": [
        {
          "output_type": "stream",
          "text": [
            "100274.jpg   1653815.jpg  2307638.jpg  2944161.jpg  3622237.jpg  638678.jpg\n",
            "1012080.jpg  1655387.jpg  2308682.jpg  2945937.jpg  365725.jpg\t 640024.jpg\n",
            "1016217.jpg  1662212.jpg  2315011.jpg  296375.jpg   3662612.jpg  647683.jpg\n",
            "1064847.jpg  168551.jpg   2339231.jpg  2981911.jpg  367422.jpg\t 653303.jpg\n",
            "1082384.jpg  1687010.jpg  2353677.jpg  2984679.jpg  3681340.jpg  66183.jpg\n",
            "108310.jpg   1718949.jpg  2365038.jpg  2989645.jpg  3753767.jpg  66207.jpg\n",
            "1094883.jpg  1778186.jpg  2372048.jpg  3013185.jpg  3757027.jpg  66858.jpg\n",
            "1107549.jpg  1792128.jpg  2382600.jpg  3013404.jpg  378397.jpg\t 670345.jpg\n",
            "1118585.jpg  1794566.jpg  2416973.jpg  3029602.jpg  3786535.jpg  673127.jpg\n",
            "1163050.jpg  1848046.jpg  2475366.jpg  3048920.jpg  3835895.jpg  690177.jpg\n",
            "1166047.jpg  1848936.jpg  2484823.jpg  3060047.jpg  3842125.jpg  690477.jpg\n",
            "1190808.jpg  1868005.jpg  2510026.jpg  3062369.jpg  3873283.jpg  697562.jpg\n",
            "1194662.jpg  1872368.jpg  2512387.jpg  3063435.jpg  3873655.jpg  7056.jpg\n",
            "1206166.jpg  1874088.jpg  2545411.jpg  3088325.jpg  3901703.jpg  717293.jpg\n",
            "1225389.jpg  1879697.jpg  2576310.jpg  30892.jpg    3903517.jpg  721500.jpg\n",
            "1259789.jpg  1882831.jpg  2600656.jpg  3100563.jpg  3905395.jpg  730464.jpg\n",
            "1274725.jpg  1902895.jpg  2619782.jpg  3137334.jpg  391144.jpg\t 746921.jpg\n",
            "1285886.jpg  1951003.jpg  2649745.jpg  3138001.jpg  39461.jpg\t 766575.jpg\n",
            "1288129.jpg  1956040.jpg  2685931.jpg  3173402.jpg  399377.jpg\t 776184.jpg\n",
            "1288540.jpg  1972463.jpg  2716791.jpg  321090.jpg   400530.jpg\t 787462.jpg\n",
            "13023.jpg    1982192.jpg  2720938.jpg  3235645.jpg  400951.jpg\t 790544.jpg\n",
            "1302563.jpg  1983405.jpg  2726773.jpg  324862.jpg   401660.jpg\t 831681.jpg\n",
            "1319758.jpg  2014349.jpg  2738323.jpg  3293212.jpg  40947.jpg\t 835871.jpg\n",
            "1335842.jpg  2056621.jpg  27415.jpg    3293650.jpg  413497.jpg\t 847477.jpg\n",
            "1342025.jpg  2061929.jpg  2752603.jpg  3297938.jpg  429304.jpg\t 864661.jpg\n",
            "1352319.jpg  2069289.jpg  2756200.jpg  3315737.jpg  459522.jpg\t 867610.jpg\n",
            "13719.jpg    2071320.jpg  2772358.jpg  3343970.jpg  476333.jpg\t 86782.jpg\n",
            "1375503.jpg  2077577.jpg  277297.jpg   3352834.jpg  481867.jpg\t 87246.jpg\n",
            "1379840.jpg  2092345.jpg  2802460.jpg  3383942.jpg  48208.jpg\t 894825.jpg\n",
            "138754.jpg   2117351.jpg  2814314.jpg  3424937.jpg  4889.jpg\t 902211.jpg\n",
            "1403881.jpg  2138503.jpg  281731.jpg   3444448.jpg  502076.jpg\t 904856.jpg\n",
            "1415873.jpg  2144308.jpg  2821155.jpg  347745.jpg   504349.jpg\t 906508.jpg\n",
            "144370.jpg   219196.jpg   2824517.jpg  3479599.jpg  515830.jpg\t 90930.jpg\n",
            "1449248.jpg  2193535.jpg  2825105.jpg  3497585.jpg  526186.jpg\t 912108.jpg\n",
            "1451299.jpg  2198931.jpg  284097.jpg   3503350.jpg  550687.jpg\t 918793.jpg\n",
            "1482489.jpg  221604.jpg   2843725.jpg  3504515.jpg  552171.jpg\t 926656.jpg\n",
            "148595.jpg   2229090.jpg  285269.jpg   3541033.jpg  562855.jpg\t 928920.jpg\n",
            "1498778.jpg  2246332.jpg  2861000.jpg  354513.jpg   565095.jpg\t 958704.jpg\n",
            "1499273.jpg  2276476.jpg  289822.jpg   3548389.jpg  595836.jpg\t 966174.jpg\n",
            "1515274.jpg  2285106.jpg  290406.jpg   3553838.jpg  603417.jpg\t 970916.jpg\n",
            "1523026.jpg  228683.jpg   2921355.jpg  3576324.jpg  60819.jpg\n",
            "1627703.jpg  2293470.jpg  2943601.jpg  36042.jpg    6261.jpg\n"
          ],
          "name": "stdout"
        }
      ]
    },
    {
      "cell_type": "code",
      "metadata": {
        "colab": {
          "base_uri": "https://localhost:8080/"
        },
        "id": "OcUVXuqNrPD1",
        "outputId": "b560952b-1364-4a5f-ddef-9fb4cf32dd61"
      },
      "source": [
        "import os\n",
        "# walkthrough the dataset and list the number of files\n",
        "\n",
        "for dirpath, dirnames, filenames in os.walk('pizza_steak'):\n",
        "    print(f\"There are {len(dirnames)} directories and {len(filenames)} images in '{dirpath}'.\")"
      ],
      "execution_count": 9,
      "outputs": [
        {
          "output_type": "stream",
          "text": [
            "There are 2 directories and 1 images in 'pizza_steak'.\n",
            "There are 2 directories and 1 images in 'pizza_steak/train'.\n",
            "There are 0 directories and 750 images in 'pizza_steak/train/steak'.\n",
            "There are 0 directories and 750 images in 'pizza_steak/train/pizza'.\n",
            "There are 2 directories and 1 images in 'pizza_steak/test'.\n",
            "There are 0 directories and 250 images in 'pizza_steak/test/steak'.\n",
            "There are 0 directories and 250 images in 'pizza_steak/test/pizza'.\n"
          ],
          "name": "stdout"
        }
      ]
    },
    {
      "cell_type": "code",
      "metadata": {
        "colab": {
          "base_uri": "https://localhost:8080/"
        },
        "id": "Yycrth-7rqvg",
        "outputId": "9a561fbb-1993-4040-bc1e-377d6c274c9e"
      },
      "source": [
        "# Get the class names (programmatically, this is much more helpful with a longer list of classes)\n",
        "import pathlib\n",
        "import numpy as np\n",
        "data_dir= pathlib.Path('pizza_steak/train/') # turns our training path into a python path\n",
        "class_names = np.array(sorted([item.name for item in data_dir.glob('*')])) # created a list of class_names from the subdirectories\n",
        "print(class_names)"
      ],
      "execution_count": 10,
      "outputs": [
        {
          "output_type": "stream",
          "text": [
            "['.DS_Store' 'pizza' 'steak']\n"
          ],
          "name": "stdout"
        }
      ]
    },
    {
      "cell_type": "markdown",
      "metadata": {
        "id": "To_W9x_jxp6p"
      },
      "source": [
        "Okay, so we've got a collection of 750 training images and 250 testing images of pizza and steak.\n",
        "\n",
        "Let's look at some.\n",
        "\n",
        "🤔 Note: Whenever you're working with data, it's always good to visualize it as much as possible. Treat your first couple of steps of a project as becoming one with the data. Visualize, visualize, visualize."
      ]
    },
    {
      "cell_type": "code",
      "metadata": {
        "id": "nwg0A0QBxrXO"
      },
      "source": [
        "# view an image\n",
        "import matplotlib.pyplot as plt\n",
        "import matplotlib.image as mpimg\n",
        "import random\n",
        "import os\n",
        "\n",
        "def view_random_image(target_dir, target_class):\n",
        "  #set up all the images in this directrory\n",
        "  target_folder= target_dir + target_class\n",
        "\n",
        "  # get a random img path\n",
        "  \"\"\"the below code returns a particular length list of items chosen from the \n",
        "  sequence i.e. list, tuple, string or set. Used for random sampling without \n",
        "  replacement.\"\"\"\n",
        "  random_image= random.sample(os.listdir(target_folder), 1)\n",
        "\n",
        "  #read the image\n",
        "  img = mpimg.imread(target_folder + \"/\" + random_image[0])\n",
        "  plt.imshow(img)\n",
        "  plt.title('target_class')\n",
        "  plt.axis('off');\n",
        "\n",
        "  print(f\"Image Shape: {img.shape}\")\n",
        "  #if you uncomment the line below it will return a tensor of the img\n",
        "  return img"
      ],
      "execution_count": 11,
      "outputs": []
    },
    {
      "cell_type": "code",
      "metadata": {
        "colab": {
          "base_uri": "https://localhost:8080/",
          "height": 1000
        },
        "id": "ACuQ4EFu0sQE",
        "outputId": "a156af97-ca65-4a66-d1f8-9bb0aa1aa5b8"
      },
      "source": [
        "view_random_image(target_dir='pizza_steak/train/',\n",
        "                  target_class= 'steak')"
      ],
      "execution_count": 12,
      "outputs": [
        {
          "output_type": "stream",
          "text": [
            "Image Shape: (499, 512, 3)\n"
          ],
          "name": "stdout"
        },
        {
          "output_type": "execute_result",
          "data": {
            "text/plain": [
              "array([[[0, 3, 3],\n",
              "        [0, 2, 3],\n",
              "        [0, 1, 3],\n",
              "        ...,\n",
              "        [0, 0, 0],\n",
              "        [0, 0, 2],\n",
              "        [0, 1, 4]],\n",
              "\n",
              "       [[0, 3, 1],\n",
              "        [0, 2, 3],\n",
              "        [0, 1, 3],\n",
              "        ...,\n",
              "        [0, 0, 0],\n",
              "        [0, 0, 2],\n",
              "        [0, 1, 4]],\n",
              "\n",
              "       [[0, 3, 1],\n",
              "        [0, 2, 1],\n",
              "        [0, 1, 3],\n",
              "        ...,\n",
              "        [0, 0, 0],\n",
              "        [0, 0, 2],\n",
              "        [0, 1, 4]],\n",
              "\n",
              "       ...,\n",
              "\n",
              "       [[0, 0, 0],\n",
              "        [0, 0, 0],\n",
              "        [0, 0, 0],\n",
              "        ...,\n",
              "        [0, 0, 0],\n",
              "        [0, 0, 0],\n",
              "        [0, 0, 0]],\n",
              "\n",
              "       [[0, 0, 0],\n",
              "        [0, 0, 0],\n",
              "        [0, 0, 0],\n",
              "        ...,\n",
              "        [0, 0, 0],\n",
              "        [0, 0, 0],\n",
              "        [0, 0, 0]],\n",
              "\n",
              "       [[0, 0, 0],\n",
              "        [0, 0, 0],\n",
              "        [0, 0, 0],\n",
              "        ...,\n",
              "        [0, 0, 0],\n",
              "        [0, 0, 0],\n",
              "        [0, 0, 0]]], dtype=uint8)"
            ]
          },
          "metadata": {
            "tags": []
          },
          "execution_count": 12
        },
        {
          "output_type": "display_data",
          "data": {
            "image/png": "[encoded data removed]",
            "text/plain": [
              "<Figure size 432x288 with 1 Axes>"
            ]
          },
          "metadata": {
            "tags": [],
            "needs_background": "light"
          }
        }
      ]
    },
    {
      "cell_type": "markdown",
      "metadata": {
        "id": "6JDYEJtg1PDd"
      },
      "source": [
        "After going through a dozen or so images from the different classes, you can start to get an idea of what we're working with.\n",
        "\n",
        "The entire Food101 dataset comprises of similar images from 101 different classes.\n",
        "\n",
        "You might've noticed we've been printing the image shape alongside the plotted image.\n",
        "\n",
        "This is because the way our computer sees the image is in the form of a big array (tensor)."
      ]
    },
    {
      "cell_type": "markdown",
      "metadata": {
        "id": "JhWmlDhM3y4E"
      },
      "source": [
        "Looking at the image shape more closely, you'll see it's in the form (Width, Height, Colour Channels).\n",
        "\n",
        "In our case, the width and height vary but because we're dealing with colour images, the colour channels value is always 3. This is for different values of red, green and blue (RGB) pixels.\n",
        "\n",
        "You'll notice all of the values in the img array are between 0 and 255. This is because that's the possible range for red, green and blue values.\n",
        "\n",
        "For example, a pixel with a value red=0, green=0, blue=255 will look very blue.\n",
        "\n",
        "So when we build a model to differentiate between our images of pizza and steak, it will be finding patterns in these different pixel values which determine what each class looks like.\n",
        "\n",
        "🔑 Note: As we've discussed before, many machine learning models, including neural networks prefer the values they work with to be between 0 and 1. Knowing this, one of the most common preprocessing steps for working with images is to scale (also referred to as normalize) their pixel values by dividing the image arrays by 255."
      ]
    },
    {
      "cell_type": "markdown",
      "metadata": {
        "id": "S2ymYSMT7UPy"
      },
      "source": [
        "## A (typical) architecture of a convolutional neural network\n",
        "Convolutional neural networks are no different to other kinds of deep learning neural networks in the fact they can be created in many different ways. What you see below are some components you'd expect to find in a traditional CNN.\n",
        "\n",
        "Components of a convolutional neural network:"
      ]
    },
    {
      "cell_type": "code",
      "metadata": {
        "colab": {
          "base_uri": "https://localhost:8080/",
          "height": 297
        },
        "id": "LD0tyPN-9Ynj",
        "outputId": "54edbcb1-dff3-4e0e-a26a-95054456fd63"
      },
      "source": [
        "# don't freak out it's just creating a pandas data frame lol\n",
        "\n",
        "data= {'Hyperparameter/ layer type': ['Input image(s)', 'Input_layer', 'convolution_layer', 'Hidden activation', 'pooling layer', 'fully connected layer',\n",
        "                                      'output layer', 'output activation' ],\n",
        "       'what does it do': [\"Target images you'd like to discover patterns in\", \"Takes in target images and preprocesses them for further layers\",\n",
        "                           \"Extracts/learns the most important features from target images\", \"Adds non-linearity to learned features (non-straight lines)\",\n",
        "                           \"Reduces the dimensionality of learned image features\", \"Further refines learned features from convolution layers\",\n",
        "                           \"Takes learned features and outputs them in shape of target labels\", \"Adds non-linearities to output layer\"],\n",
        "       'Typical values': [\"Whatever you can take a photo (or video) of\", \"input_shape = [batch_size, image_height, image_width, color_channels]\",\n",
        "                          \"Multiple, can create with tf.keras.layers.ConvXD (X can be multiple values)\", \"Usually ReLU (tf.keras.activations.relu)\",\n",
        "                          \"Average (tf.keras.layers.AvgPool2D) or Max (tf.keras.layers.MaxPool2D)\", \n",
        "                          \"tf.keras.layers.Dense\", \"output_shape = [number_of_classes] (e.g. 3 for pizza, steak or sushi)\",\n",
        "                          \"tf.keras.activations.sigmoid (binary classification) or tf.keras.activations.softmax\"]}\n",
        "\n",
        "import pandas as pd\n",
        "df = pd.DataFrame(data= data)\n",
        "df"
      ],
      "execution_count": 13,
      "outputs": [
        {
          "output_type": "execute_result",
          "data": {
            "text/html": [
              "<div>\n",
              "<style scoped>\n",
              "    .dataframe tbody tr th:only-of-type {\n",
              "        vertical-align: middle;\n",
              "    }\n",
              "\n",
              "    .dataframe tbody tr th {\n",
              "        vertical-align: top;\n",
              "    }\n",
              "\n",
              "    .dataframe thead th {\n",
              "        text-align: right;\n",
              "    }\n",
              "</style>\n",
              "<table border=\"1\" class=\"dataframe\">\n",
              "  <thead>\n",
              "    <tr style=\"text-align: right;\">\n",
              "      <th></th>\n",
              "      <th>Hyperparameter/ layer type</th>\n",
              "      <th>what does it do</th>\n",
              "      <th>Typical values</th>\n",
              "    </tr>\n",
              "  </thead>\n",
              "  <tbody>\n",
              "    <tr>\n",
              "      <th>0</th>\n",
              "      <td>Input image(s)</td>\n",
              "      <td>Target images you'd like to discover patterns in</td>\n",
              "      <td>Whatever you can take a photo (or video) of</td>\n",
              "    </tr>\n",
              "    <tr>\n",
              "      <th>1</th>\n",
              "      <td>Input_layer</td>\n",
              "      <td>Takes in target images and preprocesses them f...</td>\n",
              "      <td>input_shape = [batch_size, image_height, image...</td>\n",
              "    </tr>\n",
              "    <tr>\n",
              "      <th>2</th>\n",
              "      <td>convolution_layer</td>\n",
              "      <td>Extracts/learns the most important features fr...</td>\n",
              "      <td>Multiple, can create with tf.keras.layers.Conv...</td>\n",
              "    </tr>\n",
              "    <tr>\n",
              "      <th>3</th>\n",
              "      <td>Hidden activation</td>\n",
              "      <td>Adds non-linearity to learned features (non-st...</td>\n",
              "      <td>Usually ReLU (tf.keras.activations.relu)</td>\n",
              "    </tr>\n",
              "    <tr>\n",
              "      <th>4</th>\n",
              "      <td>pooling layer</td>\n",
              "      <td>Reduces the dimensionality of learned image fe...</td>\n",
              "      <td>Average (tf.keras.layers.AvgPool2D) or Max (tf...</td>\n",
              "    </tr>\n",
              "    <tr>\n",
              "      <th>5</th>\n",
              "      <td>fully connected layer</td>\n",
              "      <td>Further refines learned features from convolut...</td>\n",
              "      <td>tf.keras.layers.Dense</td>\n",
              "    </tr>\n",
              "    <tr>\n",
              "      <th>6</th>\n",
              "      <td>output layer</td>\n",
              "      <td>Takes learned features and outputs them in sha...</td>\n",
              "      <td>output_shape = [number_of_classes] (e.g. 3 for...</td>\n",
              "    </tr>\n",
              "    <tr>\n",
              "      <th>7</th>\n",
              "      <td>output activation</td>\n",
              "      <td>Adds non-linearities to output layer</td>\n",
              "      <td>tf.keras.activations.sigmoid (binary classific...</td>\n",
              "    </tr>\n",
              "  </tbody>\n",
              "</table>\n",
              "</div>"
            ],
            "text/plain": [
              "  Hyperparameter/ layer type  ...                                     Typical values\n",
              "0             Input image(s)  ...        Whatever you can take a photo (or video) of\n",
              "1                Input_layer  ...  input_shape = [batch_size, image_height, image...\n",
              "2          convolution_layer  ...  Multiple, can create with tf.keras.layers.Conv...\n",
              "3          Hidden activation  ...           Usually ReLU (tf.keras.activations.relu)\n",
              "4              pooling layer  ...  Average (tf.keras.layers.AvgPool2D) or Max (tf...\n",
              "5      fully connected layer  ...                              tf.keras.layers.Dense\n",
              "6               output layer  ...  output_shape = [number_of_classes] (e.g. 3 for...\n",
              "7          output activation  ...  tf.keras.activations.sigmoid (binary classific...\n",
              "\n",
              "[8 rows x 3 columns]"
            ]
          },
          "metadata": {
            "tags": []
          },
          "execution_count": 13
        }
      ]
    },
    {
      "cell_type": "code",
      "metadata": {
        "colab": {
          "base_uri": "https://localhost:8080/",
          "height": 257
        },
        "id": "9oueWwex_vPt",
        "outputId": "ca2319d1-63e7-41ab-a84b-1c0c9ff53fa4"
      },
      "source": [
        "# let's render the above table using a google colab api\n",
        "from google.colab import data_table\n",
        "data_table.DataTable(df, include_index= False)"
      ],
      "execution_count": 14,
      "outputs": [
        {
          "output_type": "execute_result",
          "data": {
            "application/vnd.google.colaboratory.module+javascript": "\n      import \"https://ssl.gstatic.com/colaboratory/data_table/a6224c040fa35dcf/data_table.js\";\n\n      window.createDataTable({\n        data: [[\"Input image(s)\",\n\"Target images you'd like to discover patterns in\",\n\"Whatever you can take a photo (or video) of\"],\n [\"Input_layer\",\n\"Takes in target images and preprocesses them for further layers\",\n\"input_shape = [batch_size, image_height, image_width, color_channels]\"],\n [\"convolution_layer\",\n\"Extracts/learns the most important features from target images\",\n\"Multiple, can create with tf.keras.layers.ConvXD (X can be multiple values)\"],\n [\"Hidden activation\",\n\"Adds non-linearity to learned features (non-straight lines)\",\n\"Usually ReLU (tf.keras.activations.relu)\"],\n [\"pooling layer\",\n\"Reduces the dimensionality of learned image features\",\n\"Average (tf.keras.layers.AvgPool2D) or Max (tf.keras.layers.MaxPool2D)\"],\n [\"fully connected layer\",\n\"Further refines learned features from convolution layers\",\n\"tf.keras.layers.Dense\"],\n [\"output layer\",\n\"Takes learned features and outputs them in shape of target labels\",\n\"output_shape = [number_of_classes] (e.g. 3 for pizza, steak or sushi)\"],\n [\"output activation\",\n\"Adds non-linearities to output layer\",\n\"tf.keras.activations.sigmoid (binary classification) or tf.keras.activations.softmax\"]],\n        columns: [[\"string\", \"Hyperparameter/ layer type\"], [\"string\", \"what does it do\"], [\"string\", \"Typical values\"]],\n        columnOptions: [],\n        rowsPerPage: 25,\n        helpUrl: \"https://colab.research.google.com/notebooks/data_table.ipynb\",\n        suppressOutputScrolling: true,\n        minimumWidth: undefined,\n      });\n    ",
            "text/plain": [
              "<google.colab.data_table.DataTable object>"
            ],
            "text/html": [
              "<div>\n",
              "<style scoped>\n",
              "    .dataframe tbody tr th:only-of-type {\n",
              "        vertical-align: middle;\n",
              "    }\n",
              "\n",
              "    .dataframe tbody tr th {\n",
              "        vertical-align: top;\n",
              "    }\n",
              "\n",
              "    .dataframe thead th {\n",
              "        text-align: right;\n",
              "    }\n",
              "</style>\n",
              "<table border=\"1\" class=\"dataframe\">\n",
              "  <thead>\n",
              "    <tr style=\"text-align: right;\">\n",
              "      <th></th>\n",
              "      <th>Hyperparameter/ layer type</th>\n",
              "      <th>what does it do</th>\n",
              "      <th>Typical values</th>\n",
              "    </tr>\n",
              "  </thead>\n",
              "  <tbody>\n",
              "    <tr>\n",
              "      <th>0</th>\n",
              "      <td>Input image(s)</td>\n",
              "      <td>Target images you'd like to discover patterns in</td>\n",
              "      <td>Whatever you can take a photo (or video) of</td>\n",
              "    </tr>\n",
              "    <tr>\n",
              "      <th>1</th>\n",
              "      <td>Input_layer</td>\n",
              "      <td>Takes in target images and preprocesses them f...</td>\n",
              "      <td>input_shape = [batch_size, image_height, image...</td>\n",
              "    </tr>\n",
              "    <tr>\n",
              "      <th>2</th>\n",
              "      <td>convolution_layer</td>\n",
              "      <td>Extracts/learns the most important features fr...</td>\n",
              "      <td>Multiple, can create with tf.keras.layers.Conv...</td>\n",
              "    </tr>\n",
              "    <tr>\n",
              "      <th>3</th>\n",
              "      <td>Hidden activation</td>\n",
              "      <td>Adds non-linearity to learned features (non-st...</td>\n",
              "      <td>Usually ReLU (tf.keras.activations.relu)</td>\n",
              "    </tr>\n",
              "    <tr>\n",
              "      <th>4</th>\n",
              "      <td>pooling layer</td>\n",
              "      <td>Reduces the dimensionality of learned image fe...</td>\n",
              "      <td>Average (tf.keras.layers.AvgPool2D) or Max (tf...</td>\n",
              "    </tr>\n",
              "    <tr>\n",
              "      <th>5</th>\n",
              "      <td>fully connected layer</td>\n",
              "      <td>Further refines learned features from convolut...</td>\n",
              "      <td>tf.keras.layers.Dense</td>\n",
              "    </tr>\n",
              "    <tr>\n",
              "      <th>6</th>\n",
              "      <td>output layer</td>\n",
              "      <td>Takes learned features and outputs them in sha...</td>\n",
              "      <td>output_shape = [number_of_classes] (e.g. 3 for...</td>\n",
              "    </tr>\n",
              "    <tr>\n",
              "      <th>7</th>\n",
              "      <td>output activation</td>\n",
              "      <td>Adds non-linearities to output layer</td>\n",
              "      <td>tf.keras.activations.sigmoid (binary classific...</td>\n",
              "    </tr>\n",
              "  </tbody>\n",
              "</table>\n",
              "</div>"
            ]
          },
          "metadata": {
            "tags": []
          },
          "execution_count": 14
        }
      ]
    },
    {
      "cell_type": "markdown",
      "metadata": {
        "id": "qRDjo4GQA9To"
      },
      "source": [
        "## An end-to-end example\n",
        "We've checked out our data and found there's 750 training images, as well as 250 test images per class and they're all of various different shapes.\n",
        "\n",
        "It's time to jump straight in the deep end.\n",
        "\n",
        "Reading the original dataset authors paper, we see they used a Random Forest machine learning model and averaged 50.76% accuracy at predicting what different foods different images had in them.\n",
        "\n",
        "From now on, that 50.76% will be our baseline.\n",
        "\n",
        "🔑 Note: A baseline is a score or evaluation metric you want to try and beat. Usually you'll start with a simple model, create a baseline and try to beat it by increasing the complexity of the model. A really fun way to learn machine learning is to find some kind of modelling paper with a published result and try to beat it.\n",
        "\n",
        "The code in the following cell replicates and end-to-end way to model our pizza_steak dataset with a convolutional neural network (CNN) using the components listed above.\n",
        "\n",
        "There will be a bunch of things you might not recognize but step through the code yourself and see if you can figure out what it's doing.\n",
        "\n",
        "We'll go through each of the steps later on in the notebook.\n",
        "\n",
        "For reference, the model we're using replicates TinyVGG, the computer vision architecture which fuels the CNN explainer webpage.\n",
        "\n",
        "📖 Resource: The architecture we're using below is a scaled-down version of VGG-16, a convolutional neural network which came 2nd in the 2014 ImageNet classification competition."
      ]
    },
    {
      "cell_type": "code",
      "metadata": {
        "colab": {
          "base_uri": "https://localhost:8080/"
        },
        "id": "OiT3Wse1BtsY",
        "outputId": "e707a930-3827-44fe-84c7-2ab733c8ec25"
      },
      "source": [
        "import tensorflow as tf\n",
        "from tensorflow.keras.preprocessing.image import ImageDataGenerator\n",
        "\n",
        "# set the seed\n",
        "tf.random.set_seed(42)\n",
        "\n",
        "# Preprocess data (get all of the pixel values between 1 and 0, also called scaling/normalization)\n",
        "train_datagen= ImageDataGenerator(rescale= 1./255)\n",
        "valid_datagen = ImageDataGenerator(rescale= 1./255)\n",
        "\n",
        "# setup the train and test directories\n",
        "train_dir = \"pizza_steak/train/\"\n",
        "test_dir = \"pizza_steak/test/\"\n",
        "\n",
        "# import data from directories and turn it into bathches\n",
        "train_data= train_datagen.flow_from_directory(train_dir,\n",
        "                                             batch_size= 32, #number of images to process at a time\n",
        "                                             target_size= (224, 224), #convert all the images to a 224 by 224 pixels\n",
        "                                             class_mode= 'binary', # kind of problems we're working on\n",
        "                                             seed= 42)\n",
        "\n",
        "valid_data= valid_datagen.flow_from_directory(test_dir,\n",
        "                                              batch_size= 32,\n",
        "                                              target_size= (224, 224),\n",
        "                                              class_mode= 'binary',\n",
        "                                              seed= 42)\n",
        "# Create a CNN model (same as Tiny VGG - https://poloclub.github.io/cnn-explainer/)\n",
        "model_1= tf.keras.models.Sequential([\n",
        "        tf.keras.layers.Conv2D(filters= 10,\n",
        "                               kernel_size= 3, # can also be (3,3)\n",
        "                               activation= 'relu',\n",
        "                               input_shape= (224, 224, 3)), # first layer specifies input shape (height, width, colour chanells)\n",
        "         tf.keras.layers.Conv2D(10, 3, activation= \"relu\"),\n",
        "         tf.keras.layers.MaxPool2D(pool_size= 2, #pool_size can also be (2,2))\n",
        "                                   padding= 'Valid'),\n",
        "         tf.keras.layers.Conv2D(10, 3, activation= 'relu'),\n",
        "         tf.keras.layers.MaxPool2D(2),\n",
        "         tf.keras.layers.Flatten(),\n",
        "         tf.keras.layers.Dense(1, activation= 'sigmoid')\n",
        "        ])\n",
        "\n",
        "#compile the model\n",
        "model_1.compile(loss= 'binary_crossentropy',\n",
        "                optimizer= tf.keras.optimizers.Adam(),\n",
        "                metrics= ['accuracy'])\n",
        "#fit the model\n",
        "history_1= model_1.fit(train_data,\n",
        "                       epochs= 5,\n",
        "                       steps_per_epoch= len(train_data),\n",
        "                       validation_data= valid_data,\n",
        "                       validation_steps= len(valid_data))\n"
      ],
      "execution_count": 15,
      "outputs": [
        {
          "output_type": "stream",
          "text": [
            "Found 1500 images belonging to 2 classes.\n",
            "Found 500 images belonging to 2 classes.\n",
            "Epoch 1/5\n",
            "47/47 [==============================] - 41s 205ms/step - loss: 0.5605 - accuracy: 0.7073 - val_loss: 0.4584 - val_accuracy: 0.7980\n",
            "Epoch 2/5\n",
            "47/47 [==============================] - 9s 199ms/step - loss: 0.4700 - accuracy: 0.7793 - val_loss: 0.4013 - val_accuracy: 0.8200\n",
            "Epoch 3/5\n",
            "47/47 [==============================] - 9s 201ms/step - loss: 0.4465 - accuracy: 0.7940 - val_loss: 0.5389 - val_accuracy: 0.7120\n",
            "Epoch 4/5\n",
            "47/47 [==============================] - 9s 189ms/step - loss: 0.4125 - accuracy: 0.8273 - val_loss: 0.3405 - val_accuracy: 0.8620\n",
            "Epoch 5/5\n",
            "47/47 [==============================] - 9s 186ms/step - loss: 0.3394 - accuracy: 0.8533 - val_loss: 0.3282 - val_accuracy: 0.8600\n"
          ],
          "name": "stdout"
        }
      ]
    },
    {
      "cell_type": "markdown",
      "metadata": {
        "id": "UEDA6GHzP0qP"
      },
      "source": [
        "🤔 Note: If the cell above takes more than ~12 seconds per epoch to run, you might not be using a GPU accelerator. If you're using a Colab notebook, you can access a GPU accelerator by going to Runtime -> Change Runtime Type -> Hardware Accelerator and select \"GPU\". After doing so, you might have to rerun all of the above cells as changing the runtime type causes Colab to have to reset."
      ]
    },
    {
      "cell_type": "markdown",
      "metadata": {
        "id": "Tpra0c6XVGZp"
      },
      "source": [
        "Nice! After 5 epochs, our model beat the baseline score of 50.76% accuracy (our model got ~85% accuaracy on the training set and ~85% accuracy on the test set).\n",
        "\n",
        "However, our model only went through a binary classificaiton problem rather than all of the 101 classes in the Food101 dataset, so we can't directly compare these metrics. That being said, the results so far show that our model is learning something.\n",
        "\n",
        "🛠 Practice: Step through each of the main blocks of code in the cell above, what do you think each is doing? It's okay if you're not sure, we'll go through this soon. In the meantime, spend 10-minutes playing around the incredible CNN explainer website. What do you notice about the layer names at the top of the webpage? https://poloclub.github.io/cnn-explainer/\n",
        "\n",
        "Since we've already fit a model, let's check out its architecture."
      ]
    },
    {
      "cell_type": "code",
      "metadata": {
        "colab": {
          "base_uri": "https://localhost:8080/"
        },
        "id": "9Cj0gL2tVROH",
        "outputId": "14d4e680-04a7-43ac-bedf-2985ce2dd57d"
      },
      "source": [
        "# check out the layers in our model\n",
        "model_1.summary()"
      ],
      "execution_count": 16,
      "outputs": [
        {
          "output_type": "stream",
          "text": [
            "Model: \"sequential\"\n",
            "_________________________________________________________________\n",
            "Layer (type)                 Output Shape              Param #   \n",
            "=================================================================\n",
            "conv2d (Conv2D)              (None, 222, 222, 10)      280       \n",
            "_________________________________________________________________\n",
            "conv2d_1 (Conv2D)            (None, 220, 220, 10)      910       \n",
            "_________________________________________________________________\n",
            "max_pooling2d (MaxPooling2D) (None, 110, 110, 10)      0         \n",
            "_________________________________________________________________\n",
            "conv2d_2 (Conv2D)            (None, 108, 108, 10)      910       \n",
            "_________________________________________________________________\n",
            "max_pooling2d_1 (MaxPooling2 (None, 54, 54, 10)        0         \n",
            "_________________________________________________________________\n",
            "flatten (Flatten)            (None, 29160)             0         \n",
            "_________________________________________________________________\n",
            "dense (Dense)                (None, 1)                 29161     \n",
            "=================================================================\n",
            "Total params: 31,261\n",
            "Trainable params: 31,261\n",
            "Non-trainable params: 0\n",
            "_________________________________________________________________\n"
          ],
          "name": "stdout"
        }
      ]
    },
    {
      "cell_type": "markdown",
      "metadata": {
        "id": "M4tfDNFckn_1"
      },
      "source": [
        "Now there are a few new things here we haven't discussed, namely:\n",
        "\n",
        "The ImageDataGenerator class and the rescale parameter\n",
        "* `The flow_from_directory()` method\n",
        "  * The `batch_size` parameter\n",
        "  * The `target_size` parameter\n",
        "* `Conv2D` layers (and the parameters which come with them)\n",
        "* `MaxPool2D` layers (and their parameters).\n",
        "* The `steps_per_epoch` and `validation_steps` parameters in the `fit()` function\n",
        "<br>\n",
        "Before we dive into each of these, let's see what happens if we try to fit a model we've worked with previously to our data."
      ]
    },
    {
      "cell_type": "markdown",
      "metadata": {
        "id": "9xixPwJPmF1h"
      },
      "source": [
        "Using the same model as before\n",
        "To examplify how neural networks can be adapted to many different problems, let's see how a binary classification model we've previously built might work with our data.\n",
        "\n",
        "🔑 Note: If you haven't gone through the previous classification notebook, no troubles, we'll be bringing in the a simple 4 layer architecture used to separate dots replicated from the TensorFlow Playground environment.\n",
        "\n",
        "We can use all of the same parameters in our previous model except for changing two things:\n",
        "\n",
        "The data - we're now working with images instead of dots.\n",
        "The input shape - we have to tell our neural network the shape of the images we're working with.\n",
        "A common practice is to reshape images all to one size. In our case, we'll resize the images to (224, 224, 3), meaning a height and width of 224 pixels and a depth of 3 for the red, green, blue colour channels."
      ]
    },
    {
      "cell_type": "code",
      "metadata": {
        "colab": {
          "base_uri": "https://localhost:8080/"
        },
        "id": "pqGSdkznmXdE",
        "outputId": "89fcd786-0dc4-44bb-fe4b-22ab32c98d3a"
      },
      "source": [
        "# set the random seed\n",
        "tf.random.set_seed(42)\n",
        "\n",
        "model_2= tf.keras.models.Sequential([\n",
        "           tf.keras.layers.Flatten(input_shape= (224,224, 3)),\n",
        "           tf.keras.layers.Dense(4, activation= 'relu'),\n",
        "           tf.keras.layers.Dense(4, activation= 'relu'),\n",
        "           tf.keras.layers.Dense(1, activation= 'sigmoid')\n",
        "])\n",
        "\n",
        "# compile the model\n",
        "model_2.compile(loss= 'binary_crossentropy',\n",
        "                optimizer= tf.keras.optimizers.Adam(),\n",
        "                metrics= ['accuracy'])\n",
        "\n",
        "history_2= model_2.fit(train_data,\n",
        "                       epochs= 5,\n",
        "                       steps_per_epoch= len(train_data),\n",
        "                       validation_data= valid_data,\n",
        "                       validation_steps= len(valid_data))"
      ],
      "execution_count": 19,
      "outputs": [
        {
          "output_type": "stream",
          "text": [
            "Epoch 1/5\n",
            "47/47 [==============================] - 9s 179ms/step - loss: 1.1615 - accuracy: 0.5013 - val_loss: 0.6932 - val_accuracy: 0.5000\n",
            "Epoch 2/5\n",
            "47/47 [==============================] - 9s 184ms/step - loss: 0.6933 - accuracy: 0.5000 - val_loss: 0.6932 - val_accuracy: 0.5000\n",
            "Epoch 3/5\n",
            "47/47 [==============================] - 9s 186ms/step - loss: 0.6932 - accuracy: 0.5000 - val_loss: 0.6932 - val_accuracy: 0.5000\n",
            "Epoch 4/5\n",
            "47/47 [==============================] - 9s 182ms/step - loss: 0.6932 - accuracy: 0.5000 - val_loss: 0.6932 - val_accuracy: 0.5000\n",
            "Epoch 5/5\n",
            "47/47 [==============================] - 8s 174ms/step - loss: 0.6932 - accuracy: 0.5000 - val_loss: 0.6932 - val_accuracy: 0.5000\n"
          ],
          "name": "stdout"
        }
      ]
    },
    {
      "cell_type": "markdown",
      "metadata": {
        "id": "aap2kqBKoFe8"
      },
      "source": [
        "Wow. One of the most noticeable things here is the much larger number of parameters in model_2 versus model_1.\n",
        "\n",
        "model_2 has 602,141 trainable parameters where as model_1 has only 31,101. And despite this difference, model_1 still far and large out performs model_2.\n",
        "\n",
        "🔑 Note: You can think of trainable parameters as patterns a model can learn from data. Intuitiely, you might think more is better. And in some cases it is. But in this case, the difference here is in the two different styles of model we're using. Where a series of dense layers have a number of different learnable parameters connected to each other and hence a higher number of possible learnable patterns, a convolutional neural network seeks to sort out and learn the most important patterns in an image. So even though there are less learnable parameters in our convolutional neural network, these are often more helpful in decphering between different features in an image.\n",
        "\n",
        "Since our previous model didn't work, do you have any ideas of how we might make it work?\n",
        "\n",
        "How about we increase the number of layers?\n",
        "\n",
        "And maybe even increase the number of neurons in each layer?\n",
        "\n",
        "More specifically, we'll increase the number of neurons (also called hidden units) in each dense layer from 4 to 100 and add an extra layer.\n",
        "\n",
        "🔑 Note: Adding extra layers or increasing the number of neurons in each layer is often referred to as increasing the complexity of your model."
      ]
    },
    {
      "cell_type": "code",
      "metadata": {
        "colab": {
          "base_uri": "https://localhost:8080/"
        },
        "id": "q0vbAKTnohH4",
        "outputId": "15fa748c-80f2-44b2-fb31-cedde704a09e"
      },
      "source": [
        "# set the random seed\n",
        "tf.random.set_seed(42)\n",
        "\n",
        "#create the same model as above but this time arround increase the number of neurons in each layer\n",
        "model_3= tf.keras.models.Sequential([\n",
        "          tf.keras.layers.Flatten(input_shape= (224,224, 3)),\n",
        "          tf.keras.layers.Dense(100, activation= 'relu'),\n",
        "          tf.keras.layers.Dense(100, activation= 'relu'),\n",
        "          tf.keras.layers.Dense(100, activation= 'relu'),  #add an additional layer\n",
        "          tf.keras.layers.Dense(1, activation='sigmoid')\n",
        "])\n",
        "\n",
        "model_3.compile(loss= 'binary_crossentropy',\n",
        "                optimizer= tf.keras.optimizers.Adam(),\n",
        "                metrics= ['accuracy'])\n",
        "\n",
        "history_3 = model_3.fit(train_data,\n",
        "                        epochs= 5,\n",
        "                        validation_data= valid_data,\n",
        "                        steps_per_epoch= len(train_data),\n",
        "                        validation_steps= len(valid_data))"
      ],
      "execution_count": 20,
      "outputs": [
        {
          "output_type": "stream",
          "text": [
            "Epoch 1/5\n",
            "47/47 [==============================] - 9s 184ms/step - loss: 3.2247 - accuracy: 0.6260 - val_loss: 1.4186 - val_accuracy: 0.5640\n",
            "Epoch 2/5\n",
            "47/47 [==============================] - 9s 184ms/step - loss: 1.0667 - accuracy: 0.6920 - val_loss: 0.6821 - val_accuracy: 0.6880\n",
            "Epoch 3/5\n",
            "47/47 [==============================] - 9s 183ms/step - loss: 0.6437 - accuracy: 0.7267 - val_loss: 0.8630 - val_accuracy: 0.6960\n",
            "Epoch 4/5\n",
            "47/47 [==============================] - 8s 176ms/step - loss: 0.6164 - accuracy: 0.7720 - val_loss: 0.7604 - val_accuracy: 0.7340\n",
            "Epoch 5/5\n",
            "47/47 [==============================] - 9s 182ms/step - loss: 0.5324 - accuracy: 0.7793 - val_loss: 1.1479 - val_accuracy: 0.5580\n"
          ],
          "name": "stdout"
        }
      ]
    },
    {
      "cell_type": "markdown",
      "metadata": {
        "id": "hD9J-7G5qMH5"
      },
      "source": [
        "Woah! Looks like our model is learning again. It got ~70% accuracy on the training set and ~70% accuracy on the validation set.\n",
        "\n",
        "How does the architecute look?"
      ]
    },
    {
      "cell_type": "code",
      "metadata": {
        "colab": {
          "base_uri": "https://localhost:8080/"
        },
        "id": "i_C3LUh8qPu-",
        "outputId": "28a21fe8-8a56-470a-a7f7-03fec02c4bb6"
      },
      "source": [
        "model_3.summary()"
      ],
      "execution_count": 22,
      "outputs": [
        {
          "output_type": "stream",
          "text": [
            "Model: \"sequential_3\"\n",
            "_________________________________________________________________\n",
            "Layer (type)                 Output Shape              Param #   \n",
            "=================================================================\n",
            "flatten_3 (Flatten)          (None, 150528)            0         \n",
            "_________________________________________________________________\n",
            "dense_7 (Dense)              (None, 100)               15052900  \n",
            "_________________________________________________________________\n",
            "dense_8 (Dense)              (None, 100)               10100     \n",
            "_________________________________________________________________\n",
            "dense_9 (Dense)              (None, 100)               10100     \n",
            "_________________________________________________________________\n",
            "dense_10 (Dense)             (None, 1)                 101       \n",
            "=================================================================\n",
            "Total params: 15,073,201\n",
            "Trainable params: 15,073,201\n",
            "Non-trainable params: 0\n",
            "_________________________________________________________________\n"
          ],
          "name": "stdout"
        }
      ]
    },
    {
      "cell_type": "markdown",
      "metadata": {
        "id": "mS0Akszbqeu2"
      },
      "source": [
        "My gosh, the number of trainable parameters has increased even more than model_2. And even with close to 500x (~15,000,000 vs. ~31,000) more trainable parameters, model_3 still doesn't out perform model_1.\n",
        "\n",
        "This goes to show the power of convolutional neural networks and their ability to learn patterns despite using less parameters."
      ]
    },
    {
      "cell_type": "markdown",
      "metadata": {
        "id": "yH5cIMdOqoP5"
      },
      "source": [
        "## End of Part 1 of Convolutional Neural Networks"
      ]
    },
    {
      "cell_type": "code",
      "metadata": {
        "id": "k0_qnfGCrCik"
      },
      "source": [
        ""
      ],
      "execution_count": null,
      "outputs": []
    }
  ]
}