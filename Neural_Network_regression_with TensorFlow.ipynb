{
 "cells": [
  {
   "cell_type": "markdown",
   "id": "902a41fa",
   "metadata": {},
   "source": [
    "## Introduction to Regression with Neural Net\n",
    "There are many defns of regression, but in our case we're going to simplify it. Predicting a numerical variable based on some other combination of variables even shorter ... predicting a number."
   ]
  },
  {
   "cell_type": "code",
   "execution_count": 1,
   "id": "c8196d0c",
   "metadata": {},
   "outputs": [
    {
     "name": "stdout",
     "output_type": "stream",
     "text": [
      "2.3.0\n"
     ]
    }
   ],
   "source": [
    "import tensorflow as tf\n",
    "print(tf.__version__)"
   ]
  },
  {
   "cell_type": "markdown",
   "id": "4f5cddd1",
   "metadata": {},
   "source": [
    "## Creating data to view and fit it"
   ]
  },
  {
   "cell_type": "code",
   "execution_count": 2,
   "id": "72b3accf",
   "metadata": {},
   "outputs": [
    {
     "data": {
      "text/plain": [
       "<matplotlib.collections.PathCollection at 0x1c02d281a60>"
      ]
     },
     "execution_count": 2,
     "metadata": {},
     "output_type": "execute_result"
    },
    {
     "data": {
      "image/png": "[encoded data removed]",
      "text/plain": [
       "<Figure size 432x288 with 1 Axes>"
      ]
     },
     "metadata": {
      "needs_background": "light"
     },
     "output_type": "display_data"
    }
   ],
   "source": [
    "import numpy as np\n",
    "import matplotlib.pyplot as plt\n",
    "\n",
    "#create features\n",
    "X = np.array([-7.0, -4.0, -1.0, 2.0, 5.0, 8.0, 11.0, 14.0])\n",
    "\n",
    "#creating the labels\n",
    "y = np.array([3.0, 6.0, 9.0, 12.0, 15.0, 18.0, 21.0, 24.0])\n",
    "\n",
    "#visualize the data\n",
    "plt.scatter(X, y)"
   ]
  },
  {
   "cell_type": "markdown",
   "id": "72e79b8f",
   "metadata": {},
   "source": [
    "## `Input and Outputs of a Neural Network`"
   ]
  },
  {
   "cell_type": "code",
   "execution_count": 3,
   "id": "4b01fbfd",
   "metadata": {},
   "outputs": [
    {
     "data": {
      "text/plain": [
       "(<tf.Tensor: shape=(3,), dtype=string, numpy=array([b'bedroom', b'bathroom', b'garage'], dtype=object)>,\n",
       " <tf.Tensor: shape=(1,), dtype=int32, numpy=array([979000])>)"
      ]
     },
     "execution_count": 3,
     "metadata": {},
     "output_type": "execute_result"
    }
   ],
   "source": [
    "#create a demo tensor for a housing predicton problem\n",
    "housing_info = tf.constant(['bedroom', 'bathroom', 'garage'])\n",
    "housing_price = tf.constant([979000])\n",
    "housing_info, housing_price"
   ]
  },
  {
   "cell_type": "code",
   "execution_count": 4,
   "id": "72d31b9f",
   "metadata": {},
   "outputs": [
    {
     "data": {
      "text/plain": [
       "((8,), (8,))"
      ]
     },
     "execution_count": 4,
     "metadata": {},
     "output_type": "execute_result"
    }
   ],
   "source": [
    "input_shape = X.shape\n",
    "output_shape = y.shape\n",
    "input_shape, output_shape"
   ]
  },
  {
   "cell_type": "code",
   "execution_count": 5,
   "id": "003c5646",
   "metadata": {},
   "outputs": [
    {
     "data": {
      "text/plain": [
       "(<tf.Tensor: shape=(8,), dtype=float32, numpy=array([-7., -4., -1.,  2.,  5.,  8., 11., 14.], dtype=float32)>,\n",
       " <tf.Tensor: shape=(8,), dtype=float32, numpy=array([ 3.,  6.,  9., 12., 15., 18., 21., 24.], dtype=float32)>)"
      ]
     },
     "execution_count": 5,
     "metadata": {},
     "output_type": "execute_result"
    }
   ],
   "source": [
    "# Turn our Numpy array into tensors\n",
    "X = tf.cast(tf.constant(X), dtype= tf.float32)\n",
    "y = tf.cast(tf.constant(y), dtype= tf.float32)\n",
    "X, y"
   ]
  },
  {
   "cell_type": "code",
   "execution_count": 6,
   "id": "ac1218d7",
   "metadata": {},
   "outputs": [
    {
     "data": {
      "text/plain": [
       "(TensorShape([]), TensorShape([]))"
      ]
     },
     "execution_count": 6,
     "metadata": {},
     "output_type": "execute_result"
    }
   ],
   "source": [
    "input_shape = X[0].shape\n",
    "output_shape = y[0].shape\n",
    "input_shape, output_shape                # the shape is going to be empty because the values are a scalar value"
   ]
  },
  {
   "cell_type": "markdown",
   "id": "cf7c59ea",
   "metadata": {},
   "source": [
    "## Steps in modellong with Tensorflow\n",
    "\n",
    "1. **Creating a model** - define the input and output layers, as well as the hidden layers of the deep L model\n",
    "2. **Compiling a model** - define the loss function (in other words, the fn which tell our model how wrong it is) and the optimizer (tells our model how to improve the pattern its learning) and evaluation metrics (what we can use to interpret the perfomance of our model).\n",
    "3. **Fitting a model** - letting the model try to find patterns between X & y (features and labels)."
   ]
  },
  {
   "cell_type": "code",
   "execution_count": 7,
   "id": "aefdb679",
   "metadata": {},
   "outputs": [
    {
     "name": "stdout",
     "output_type": "stream",
     "text": [
      "Epoch 1/5\n",
      "1/1 [==============================] - 0s 0s/step - loss: 11.5048 - mae: 11.5048\n",
      "Epoch 2/5\n",
      "1/1 [==============================] - 0s 8ms/step - loss: 11.3723 - mae: 11.3723\n",
      "Epoch 3/5\n",
      "1/1 [==============================] - 0s 0s/step - loss: 11.2398 - mae: 11.2398\n",
      "Epoch 4/5\n",
      "1/1 [==============================] - 0s 0s/step - loss: 11.1073 - mae: 11.1073\n",
      "Epoch 5/5\n",
      "1/1 [==============================] - 0s 0s/step - loss: 10.9748 - mae: 10.9748\n"
     ]
    },
    {
     "data": {
      "text/plain": [
       "<tensorflow.python.keras.callbacks.History at 0x1c02eb2fcd0>"
      ]
     },
     "execution_count": 7,
     "metadata": {},
     "output_type": "execute_result"
    }
   ],
   "source": [
    "# set random seed\n",
    "tf.random.set_seed(42)\n",
    "\n",
    "# 1. Create a model using the sequential API\n",
    "model = tf.keras.Sequential([\n",
    "    tf.keras.layers.Dense(1)\n",
    "])\n",
    "\n",
    "# 2. Compile the model\n",
    "model.compile(loss = tf.keras.losses.mae, \n",
    "              optimizer = tf.keras.optimizers.SGD(),\n",
    "             metrics= ['mae'])\n",
    "\n",
    "# 3 Fit the model\n",
    "model.fit(X, y, epochs=5)"
   ]
  },
  {
   "cell_type": "code",
   "execution_count": 8,
   "id": "82886825",
   "metadata": {},
   "outputs": [
    {
     "data": {
      "text/plain": [
       "array([[12.716021]], dtype=float32)"
      ]
     },
     "execution_count": 8,
     "metadata": {},
     "output_type": "execute_result"
    }
   ],
   "source": [
    "# Try to make the prediction using our model\n",
    "model.predict([17.0])"
   ]
  },
  {
   "cell_type": "markdown",
   "id": "893e85d7",
   "metadata": {},
   "source": [
    "## Improving our model\n",
    "We can improve our model by altering the steps we took to create a mode\n",
    "\n",
    "1. **Creating a model** -- we might add more layers, increase the number of hidden units (also called neurons) within each of the hidden layers, change the activation function of each layer.\n",
    "\n",
    "2. **Compiling a model** -- here we might change the optimization function or perhaps the learning rate of the optimizayion function.\n",
    "\n",
    "3.  **Fitting a model** - here we might fit a model for more epochs (leave it training for longer) or on more data (give the model more examples to learn)"
   ]
  },
  {
   "cell_type": "code",
   "execution_count": 9,
   "id": "8a28119e",
   "metadata": {},
   "outputs": [
    {
     "name": "stdout",
     "output_type": "stream",
     "text": [
      "Epoch 1/100\n",
      "1/1 [==============================] - 0s 8ms/step - loss: 11.2219 - mae: 11.2219\n",
      "Epoch 2/100\n",
      "1/1 [==============================] - 0s 8ms/step - loss: 11.0894 - mae: 11.0894\n",
      "Epoch 3/100\n",
      "1/1 [==============================] - 0s 8ms/step - loss: 10.9569 - mae: 10.9569\n",
      "Epoch 4/100\n",
      "1/1 [==============================] - 0s 0s/step - loss: 10.8244 - mae: 10.8244\n",
      "Epoch 5/100\n",
      "1/1 [==============================] - 0s 0s/step - loss: 10.6919 - mae: 10.6919\n",
      "Epoch 6/100\n",
      "1/1 [==============================] - 0s 0s/step - loss: 10.5594 - mae: 10.5594\n",
      "Epoch 7/100\n",
      "1/1 [==============================] - 0s 0s/step - loss: 10.4269 - mae: 10.4269\n",
      "Epoch 8/100\n",
      "1/1 [==============================] - 0s 0s/step - loss: 10.2944 - mae: 10.2944\n",
      "Epoch 9/100\n",
      "1/1 [==============================] - 0s 0s/step - loss: 10.1619 - mae: 10.1619\n",
      "Epoch 10/100\n",
      "1/1 [==============================] - 0s 0s/step - loss: 10.0294 - mae: 10.0294\n",
      "Epoch 11/100\n",
      "1/1 [==============================] - 0s 0s/step - loss: 9.8969 - mae: 9.8969\n",
      "Epoch 12/100\n",
      "1/1 [==============================] - 0s 0s/step - loss: 9.7644 - mae: 9.7644\n",
      "Epoch 13/100\n",
      "1/1 [==============================] - 0s 0s/step - loss: 9.6319 - mae: 9.6319\n",
      "Epoch 14/100\n",
      "1/1 [==============================] - 0s 0s/step - loss: 9.4994 - mae: 9.4994\n",
      "Epoch 15/100\n",
      "1/1 [==============================] - 0s 0s/step - loss: 9.3669 - mae: 9.3669\n",
      "Epoch 16/100\n",
      "1/1 [==============================] - 0s 0s/step - loss: 9.2344 - mae: 9.2344\n",
      "Epoch 17/100\n",
      "1/1 [==============================] - 0s 8ms/step - loss: 9.1019 - mae: 9.1019\n",
      "Epoch 18/100\n",
      "1/1 [==============================] - 0s 0s/step - loss: 8.9694 - mae: 8.9694\n",
      "Epoch 19/100\n",
      "1/1 [==============================] - 0s 0s/step - loss: 8.8369 - mae: 8.8369\n",
      "Epoch 20/100\n",
      "1/1 [==============================] - 0s 0s/step - loss: 8.7044 - mae: 8.7044\n",
      "Epoch 21/100\n",
      "1/1 [==============================] - 0s 0s/step - loss: 8.5719 - mae: 8.5719\n",
      "Epoch 22/100\n",
      "1/1 [==============================] - 0s 0s/step - loss: 8.4394 - mae: 8.4394\n",
      "Epoch 23/100\n",
      "1/1 [==============================] - 0s 0s/step - loss: 8.3069 - mae: 8.3069\n",
      "Epoch 24/100\n",
      "1/1 [==============================] - 0s 0s/step - loss: 8.1744 - mae: 8.1744\n",
      "Epoch 25/100\n",
      "1/1 [==============================] - 0s 0s/step - loss: 8.0419 - mae: 8.0419\n",
      "Epoch 26/100\n",
      "1/1 [==============================] - 0s 8ms/step - loss: 7.9094 - mae: 7.9094\n",
      "Epoch 27/100\n",
      "1/1 [==============================] - 0s 0s/step - loss: 7.7769 - mae: 7.7769\n",
      "Epoch 28/100\n",
      "1/1 [==============================] - 0s 0s/step - loss: 7.6444 - mae: 7.6444\n",
      "Epoch 29/100\n",
      "1/1 [==============================] - 0s 0s/step - loss: 7.5119 - mae: 7.5119\n",
      "Epoch 30/100\n",
      "1/1 [==============================] - 0s 0s/step - loss: 7.3794 - mae: 7.3794\n",
      "Epoch 31/100\n",
      "1/1 [==============================] - 0s 0s/step - loss: 7.2750 - mae: 7.2750\n",
      "Epoch 32/100\n",
      "1/1 [==============================] - 0s 0s/step - loss: 7.2694 - mae: 7.2694\n",
      "Epoch 33/100\n",
      "1/1 [==============================] - 0s 0s/step - loss: 7.2638 - mae: 7.2638\n",
      "Epoch 34/100\n",
      "1/1 [==============================] - 0s 0s/step - loss: 7.2581 - mae: 7.2581\n",
      "Epoch 35/100\n",
      "1/1 [==============================] - 0s 0s/step - loss: 7.2525 - mae: 7.2525\n",
      "Epoch 36/100\n",
      "1/1 [==============================] - 0s 0s/step - loss: 7.2469 - mae: 7.2469\n",
      "Epoch 37/100\n",
      "1/1 [==============================] - 0s 8ms/step - loss: 7.2412 - mae: 7.2412\n",
      "Epoch 38/100\n",
      "1/1 [==============================] - 0s 8ms/step - loss: 7.2356 - mae: 7.2356\n",
      "Epoch 39/100\n",
      "1/1 [==============================] - 0s 8ms/step - loss: 7.2300 - mae: 7.2300\n",
      "Epoch 40/100\n",
      "1/1 [==============================] - 0s 0s/step - loss: 7.2244 - mae: 7.2244\n",
      "Epoch 41/100\n",
      "1/1 [==============================] - 0s 8ms/step - loss: 7.2188 - mae: 7.2188\n",
      "Epoch 42/100\n",
      "1/1 [==============================] - 0s 8ms/step - loss: 7.2131 - mae: 7.2131\n",
      "Epoch 43/100\n",
      "1/1 [==============================] - 0s 0s/step - loss: 7.2075 - mae: 7.2075\n",
      "Epoch 44/100\n",
      "1/1 [==============================] - 0s 8ms/step - loss: 7.2019 - mae: 7.2019\n",
      "Epoch 45/100\n",
      "1/1 [==============================] - 0s 0s/step - loss: 7.1962 - mae: 7.1962\n",
      "Epoch 46/100\n",
      "1/1 [==============================] - 0s 0s/step - loss: 7.1906 - mae: 7.1906\n",
      "Epoch 47/100\n",
      "1/1 [==============================] - 0s 0s/step - loss: 7.1850 - mae: 7.1850\n",
      "Epoch 48/100\n",
      "1/1 [==============================] - 0s 0s/step - loss: 7.1794 - mae: 7.1794\n",
      "Epoch 49/100\n",
      "1/1 [==============================] - 0s 0s/step - loss: 7.1737 - mae: 7.1737\n",
      "Epoch 50/100\n",
      "1/1 [==============================] - 0s 0s/step - loss: 7.1681 - mae: 7.1681\n",
      "Epoch 51/100\n",
      "1/1 [==============================] - 0s 0s/step - loss: 7.1625 - mae: 7.1625\n",
      "Epoch 52/100\n",
      "1/1 [==============================] - 0s 0s/step - loss: 7.1569 - mae: 7.1569\n",
      "Epoch 53/100\n",
      "1/1 [==============================] - 0s 8ms/step - loss: 7.1512 - mae: 7.1512\n",
      "Epoch 54/100\n",
      "1/1 [==============================] - 0s 0s/step - loss: 7.1456 - mae: 7.1456\n",
      "Epoch 55/100\n",
      "1/1 [==============================] - 0s 0s/step - loss: 7.1400 - mae: 7.1400\n",
      "Epoch 56/100\n",
      "1/1 [==============================] - 0s 0s/step - loss: 7.1344 - mae: 7.1344\n",
      "Epoch 57/100\n",
      "1/1 [==============================] - 0s 0s/step - loss: 7.1287 - mae: 7.1287\n",
      "Epoch 58/100\n",
      "1/1 [==============================] - 0s 0s/step - loss: 7.1231 - mae: 7.1231\n",
      "Epoch 59/100\n",
      "1/1 [==============================] - 0s 0s/step - loss: 7.1175 - mae: 7.1175\n",
      "Epoch 60/100\n",
      "1/1 [==============================] - 0s 0s/step - loss: 7.1119 - mae: 7.1119\n",
      "Epoch 61/100\n",
      "1/1 [==============================] - 0s 0s/step - loss: 7.1062 - mae: 7.1062\n",
      "Epoch 62/100\n",
      "1/1 [==============================] - 0s 0s/step - loss: 7.1006 - mae: 7.1006\n",
      "Epoch 63/100\n",
      "1/1 [==============================] - 0s 8ms/step - loss: 7.0950 - mae: 7.0950\n",
      "Epoch 64/100\n",
      "1/1 [==============================] - 0s 0s/step - loss: 7.0894 - mae: 7.0894\n",
      "Epoch 65/100\n",
      "1/1 [==============================] - 0s 0s/step - loss: 7.0838 - mae: 7.0838\n",
      "Epoch 66/100\n",
      "1/1 [==============================] - 0s 0s/step - loss: 7.0781 - mae: 7.0781\n",
      "Epoch 67/100\n",
      "1/1 [==============================] - 0s 0s/step - loss: 7.0725 - mae: 7.0725\n",
      "Epoch 68/100\n",
      "1/1 [==============================] - 0s 8ms/step - loss: 7.0669 - mae: 7.0669\n",
      "Epoch 69/100\n",
      "1/1 [==============================] - 0s 8ms/step - loss: 7.0613 - mae: 7.0613\n",
      "Epoch 70/100\n",
      "1/1 [==============================] - 0s 0s/step - loss: 7.0556 - mae: 7.0556\n",
      "Epoch 71/100\n",
      "1/1 [==============================] - 0s 0s/step - loss: 7.0500 - mae: 7.0500\n",
      "Epoch 72/100\n",
      "1/1 [==============================] - 0s 8ms/step - loss: 7.0444 - mae: 7.0444\n",
      "Epoch 73/100\n",
      "1/1 [==============================] - 0s 0s/step - loss: 7.0388 - mae: 7.0388\n",
      "Epoch 74/100\n",
      "1/1 [==============================] - 0s 0s/step - loss: 7.0331 - mae: 7.0331\n",
      "Epoch 75/100\n",
      "1/1 [==============================] - 0s 0s/step - loss: 7.0275 - mae: 7.0275\n",
      "Epoch 76/100\n",
      "1/1 [==============================] - 0s 8ms/step - loss: 7.0219 - mae: 7.0219\n",
      "Epoch 77/100\n",
      "1/1 [==============================] - 0s 0s/step - loss: 7.0163 - mae: 7.0163\n",
      "Epoch 78/100\n",
      "1/1 [==============================] - 0s 8ms/step - loss: 7.0106 - mae: 7.0106\n",
      "Epoch 79/100\n",
      "1/1 [==============================] - 0s 0s/step - loss: 7.0050 - mae: 7.0050\n",
      "Epoch 80/100\n",
      "1/1 [==============================] - 0s 0s/step - loss: 6.9994 - mae: 6.9994\n",
      "Epoch 81/100\n",
      "1/1 [==============================] - 0s 0s/step - loss: 6.9938 - mae: 6.9938\n",
      "Epoch 82/100\n",
      "1/1 [==============================] - 0s 8ms/step - loss: 6.9881 - mae: 6.9881\n",
      "Epoch 83/100\n",
      "1/1 [==============================] - 0s 0s/step - loss: 6.9825 - mae: 6.9825\n",
      "Epoch 84/100\n",
      "1/1 [==============================] - 0s 0s/step - loss: 6.9769 - mae: 6.9769\n",
      "Epoch 85/100\n",
      "1/1 [==============================] - 0s 0s/step - loss: 6.9713 - mae: 6.9713\n",
      "Epoch 86/100\n",
      "1/1 [==============================] - 0s 0s/step - loss: 6.9656 - mae: 6.9656\n",
      "Epoch 87/100\n",
      "1/1 [==============================] - 0s 0s/step - loss: 6.9600 - mae: 6.9600\n",
      "Epoch 88/100\n",
      "1/1 [==============================] - 0s 8ms/step - loss: 6.9544 - mae: 6.9544\n",
      "Epoch 89/100\n"
     ]
    },
    {
     "name": "stdout",
     "output_type": "stream",
     "text": [
      "1/1 [==============================] - 0s 0s/step - loss: 6.9488 - mae: 6.9488\n",
      "Epoch 90/100\n",
      "1/1 [==============================] - 0s 0s/step - loss: 6.9431 - mae: 6.9431\n",
      "Epoch 91/100\n",
      "1/1 [==============================] - 0s 0s/step - loss: 6.9375 - mae: 6.9375\n",
      "Epoch 92/100\n",
      "1/1 [==============================] - 0s 8ms/step - loss: 6.9319 - mae: 6.9319\n",
      "Epoch 93/100\n",
      "1/1 [==============================] - 0s 0s/step - loss: 6.9263 - mae: 6.9263\n",
      "Epoch 94/100\n",
      "1/1 [==============================] - 0s 0s/step - loss: 6.9206 - mae: 6.9206\n",
      "Epoch 95/100\n",
      "1/1 [==============================] - 0s 0s/step - loss: 6.9150 - mae: 6.9150\n",
      "Epoch 96/100\n",
      "1/1 [==============================] - 0s 0s/step - loss: 6.9094 - mae: 6.9094\n",
      "Epoch 97/100\n",
      "1/1 [==============================] - 0s 8ms/step - loss: 6.9038 - mae: 6.9038\n",
      "Epoch 98/100\n",
      "1/1 [==============================] - 0s 0s/step - loss: 6.8981 - mae: 6.8981\n",
      "Epoch 99/100\n",
      "1/1 [==============================] - 0s 0s/step - loss: 6.8925 - mae: 6.8925\n",
      "Epoch 100/100\n",
      "1/1 [==============================] - 0s 0s/step - loss: 6.8869 - mae: 6.8869\n"
     ]
    },
    {
     "data": {
      "text/plain": [
       "<tensorflow.python.keras.callbacks.History at 0x1c02eed21c0>"
      ]
     },
     "execution_count": 9,
     "metadata": {},
     "output_type": "execute_result"
    }
   ],
   "source": [
    "# Let's rebuild the model\n",
    "\n",
    "#1. Create the model\n",
    "model = tf.keras.Sequential([\n",
    "    tf.keras.layers.Dense(1)\n",
    "])\n",
    "\n",
    "# 2 Compile the model\n",
    "model.compile(loss = tf.keras.losses.mae,\n",
    "             optimizer = tf.keras.optimizers.SGD(),\n",
    "              metrics=['mae']\n",
    "             )\n",
    "\n",
    "# 3 Fit the model (this time we'll train for longer)\n",
    "model.fit(X, y, epochs=100)"
   ]
  },
  {
   "cell_type": "code",
   "execution_count": 10,
   "id": "8d15c6e1",
   "metadata": {},
   "outputs": [
    {
     "data": {
      "text/plain": [
       "array([[29.739855]], dtype=float32)"
      ]
     },
     "execution_count": 10,
     "metadata": {},
     "output_type": "execute_result"
    }
   ],
   "source": [
    "# make the prediction\n",
    "model.predict([17.0])"
   ]
  },
  {
   "cell_type": "code",
   "execution_count": 11,
   "id": "202f02b6",
   "metadata": {},
   "outputs": [
    {
     "name": "stdout",
     "output_type": "stream",
     "text": [
      "Epoch 1/100\n",
      "1/1 [==============================] - 0s 8ms/step - loss: 11.7682 - mae: 11.7682\n",
      "Epoch 2/100\n",
      "1/1 [==============================] - 0s 0s/step - loss: 11.0963 - mae: 11.0963\n",
      "Epoch 3/100\n",
      "1/1 [==============================] - 0s 0s/step - loss: 10.4150 - mae: 10.4150\n",
      "Epoch 4/100\n",
      "1/1 [==============================] - 0s 0s/step - loss: 9.7212 - mae: 9.7212\n",
      "Epoch 5/100\n",
      "1/1 [==============================] - 0s 0s/step - loss: 9.0104 - mae: 9.0104\n",
      "Epoch 6/100\n",
      "1/1 [==============================] - 0s 0s/step - loss: 8.2778 - mae: 8.2778\n",
      "Epoch 7/100\n",
      "1/1 [==============================] - 0s 0s/step - loss: 7.5198 - mae: 7.5198\n",
      "Epoch 8/100\n",
      "1/1 [==============================] - 0s 0s/step - loss: 6.9648 - mae: 6.9648\n",
      "Epoch 9/100\n",
      "1/1 [==============================] - 0s 0s/step - loss: 7.0672 - mae: 7.0672\n",
      "Epoch 10/100\n",
      "1/1 [==============================] - 0s 8ms/step - loss: 7.3315 - mae: 7.3315\n",
      "Epoch 11/100\n",
      "1/1 [==============================] - 0s 8ms/step - loss: 7.4673 - mae: 7.4673\n",
      "Epoch 12/100\n",
      "1/1 [==============================] - 0s 8ms/step - loss: 7.5285 - mae: 7.5285\n",
      "Epoch 13/100\n",
      "1/1 [==============================] - 0s 8ms/step - loss: 7.4011 - mae: 7.4011\n",
      "Epoch 14/100\n",
      "1/1 [==============================] - 0s 0s/step - loss: 7.1923 - mae: 7.1923\n",
      "Epoch 15/100\n",
      "1/1 [==============================] - 0s 0s/step - loss: 6.9575 - mae: 6.9575\n",
      "Epoch 16/100\n",
      "1/1 [==============================] - 0s 0s/step - loss: 6.6953 - mae: 6.6953\n",
      "Epoch 17/100\n",
      "1/1 [==============================] - 0s 0s/step - loss: 6.4127 - mae: 6.4127\n",
      "Epoch 18/100\n",
      "1/1 [==============================] - 0s 0s/step - loss: 6.3048 - mae: 6.3048\n",
      "Epoch 19/100\n",
      "1/1 [==============================] - 0s 0s/step - loss: 6.2575 - mae: 6.2575\n",
      "Epoch 20/100\n",
      "1/1 [==============================] - 0s 0s/step - loss: 6.3982 - mae: 6.3982\n",
      "Epoch 21/100\n",
      "1/1 [==============================] - 0s 0s/step - loss: 6.4551 - mae: 6.4551\n",
      "Epoch 22/100\n",
      "1/1 [==============================] - 0s 8ms/step - loss: 6.4000 - mae: 6.4000\n",
      "Epoch 23/100\n",
      "1/1 [==============================] - 0s 8ms/step - loss: 6.2482 - mae: 6.2482\n",
      "Epoch 24/100\n",
      "1/1 [==============================] - 0s 0s/step - loss: 6.0105 - mae: 6.0105\n",
      "Epoch 25/100\n",
      "1/1 [==============================] - 0s 0s/step - loss: 5.7876 - mae: 5.7876\n",
      "Epoch 26/100\n",
      "1/1 [==============================] - 0s 0s/step - loss: 5.6809 - mae: 5.6809\n",
      "Epoch 27/100\n",
      "1/1 [==============================] - 0s 0s/step - loss: 5.5715 - mae: 5.5715\n",
      "Epoch 28/100\n",
      "1/1 [==============================] - 0s 0s/step - loss: 5.6122 - mae: 5.6122\n",
      "Epoch 29/100\n",
      "1/1 [==============================] - 0s 0s/step - loss: 5.6074 - mae: 5.6074\n",
      "Epoch 30/100\n",
      "1/1 [==============================] - 0s 0s/step - loss: 5.5541 - mae: 5.5541\n",
      "Epoch 31/100\n",
      "1/1 [==============================] - 0s 0s/step - loss: 5.4568 - mae: 5.4568\n",
      "Epoch 32/100\n",
      "1/1 [==============================] - 0s 0s/step - loss: 5.3199 - mae: 5.3199\n",
      "Epoch 33/100\n",
      "1/1 [==============================] - 0s 0s/step - loss: 5.1477 - mae: 5.1477\n",
      "Epoch 34/100\n",
      "1/1 [==============================] - 0s 0s/step - loss: 4.9442 - mae: 4.9442\n",
      "Epoch 35/100\n",
      "1/1 [==============================] - 0s 0s/step - loss: 4.8239 - mae: 4.8239\n",
      "Epoch 36/100\n",
      "1/1 [==============================] - 0s 0s/step - loss: 4.7389 - mae: 4.7389\n",
      "Epoch 37/100\n",
      "1/1 [==============================] - 0s 0s/step - loss: 4.6657 - mae: 4.6657\n",
      "Epoch 38/100\n",
      "1/1 [==============================] - 0s 0s/step - loss: 4.5846 - mae: 4.5846\n",
      "Epoch 39/100\n",
      "1/1 [==============================] - 0s 8ms/step - loss: 4.4027 - mae: 4.4027\n",
      "Epoch 40/100\n",
      "1/1 [==============================] - 0s 8ms/step - loss: 4.2653 - mae: 4.2653\n",
      "Epoch 41/100\n",
      "1/1 [==============================] - 0s 0s/step - loss: 4.1212 - mae: 4.1212\n",
      "Epoch 42/100\n",
      "1/1 [==============================] - 0s 0s/step - loss: 3.9702 - mae: 3.9702\n",
      "Epoch 43/100\n",
      "1/1 [==============================] - 0s 0s/step - loss: 3.8272 - mae: 3.8272\n",
      "Epoch 44/100\n",
      "1/1 [==============================] - 0s 0s/step - loss: 3.7041 - mae: 3.7041\n",
      "Epoch 45/100\n",
      "1/1 [==============================] - 0s 0s/step - loss: 3.5320 - mae: 3.5320\n",
      "Epoch 46/100\n",
      "1/1 [==============================] - 0s 0s/step - loss: 3.3664 - mae: 3.3664\n",
      "Epoch 47/100\n",
      "1/1 [==============================] - 0s 8ms/step - loss: 3.2116 - mae: 3.2116\n",
      "Epoch 48/100\n",
      "1/1 [==============================] - 0s 8ms/step - loss: 3.0463 - mae: 3.0463\n",
      "Epoch 49/100\n",
      "1/1 [==============================] - 0s 0s/step - loss: 2.8705 - mae: 2.8705\n",
      "Epoch 50/100\n",
      "1/1 [==============================] - 0s 0s/step - loss: 2.6840 - mae: 2.6840\n",
      "Epoch 51/100\n",
      "1/1 [==============================] - 0s 8ms/step - loss: 2.4868 - mae: 2.4868\n",
      "Epoch 52/100\n",
      "1/1 [==============================] - 0s 0s/step - loss: 2.2787 - mae: 2.2787\n",
      "Epoch 53/100\n",
      "1/1 [==============================] - 0s 0s/step - loss: 2.0596 - mae: 2.0596\n",
      "Epoch 54/100\n",
      "1/1 [==============================] - 0s 0s/step - loss: 1.8293 - mae: 1.8293\n",
      "Epoch 55/100\n",
      "1/1 [==============================] - 0s 0s/step - loss: 1.5876 - mae: 1.5876\n",
      "Epoch 56/100\n",
      "1/1 [==============================] - 0s 0s/step - loss: 1.3530 - mae: 1.3530\n",
      "Epoch 57/100\n",
      "1/1 [==============================] - 0s 8ms/step - loss: 1.0849 - mae: 1.0849\n",
      "Epoch 58/100\n",
      "1/1 [==============================] - 0s 8ms/step - loss: 0.8224 - mae: 0.8224\n",
      "Epoch 59/100\n",
      "1/1 [==============================] - 0s 8ms/step - loss: 0.5467 - mae: 0.5467\n",
      "Epoch 60/100\n",
      "1/1 [==============================] - 0s 0s/step - loss: 0.2758 - mae: 0.2758\n",
      "Epoch 61/100\n",
      "1/1 [==============================] - 0s 0s/step - loss: 0.1354 - mae: 0.1354\n",
      "Epoch 62/100\n",
      "1/1 [==============================] - 0s 0s/step - loss: 0.4494 - mae: 0.4494\n",
      "Epoch 63/100\n",
      "1/1 [==============================] - 0s 0s/step - loss: 0.6498 - mae: 0.6498\n",
      "Epoch 64/100\n",
      "1/1 [==============================] - 0s 8ms/step - loss: 0.6216 - mae: 0.6216\n",
      "Epoch 65/100\n",
      "1/1 [==============================] - 0s 0s/step - loss: 0.8036 - mae: 0.8036\n",
      "Epoch 66/100\n",
      "1/1 [==============================] - 0s 8ms/step - loss: 0.7995 - mae: 0.7995\n",
      "Epoch 67/100\n",
      "1/1 [==============================] - 0s 0s/step - loss: 0.7409 - mae: 0.7409\n",
      "Epoch 68/100\n",
      "1/1 [==============================] - 0s 0s/step - loss: 0.7806 - mae: 0.7806\n",
      "Epoch 69/100\n",
      "1/1 [==============================] - 0s 0s/step - loss: 0.6305 - mae: 0.6305\n",
      "Epoch 70/100\n",
      "1/1 [==============================] - 0s 8ms/step - loss: 0.5556 - mae: 0.5556\n",
      "Epoch 71/100\n",
      "1/1 [==============================] - 0s 0s/step - loss: 0.4306 - mae: 0.4306\n",
      "Epoch 72/100\n",
      "1/1 [==============================] - 0s 0s/step - loss: 0.2786 - mae: 0.2786\n",
      "Epoch 73/100\n",
      "1/1 [==============================] - 0s 0s/step - loss: 0.1378 - mae: 0.1378\n",
      "Epoch 74/100\n",
      "1/1 [==============================] - 0s 0s/step - loss: 0.1193 - mae: 0.1193\n",
      "Epoch 75/100\n",
      "1/1 [==============================] - 0s 0s/step - loss: 0.2777 - mae: 0.2777\n",
      "Epoch 76/100\n",
      "1/1 [==============================] - 0s 0s/step - loss: 0.3245 - mae: 0.3245\n",
      "Epoch 77/100\n",
      "1/1 [==============================] - 0s 0s/step - loss: 0.4157 - mae: 0.4157\n",
      "Epoch 78/100\n",
      "1/1 [==============================] - 0s 8ms/step - loss: 0.4319 - mae: 0.4319\n",
      "Epoch 79/100\n",
      "1/1 [==============================] - 0s 0s/step - loss: 0.3391 - mae: 0.3391\n",
      "Epoch 80/100\n",
      "1/1 [==============================] - 0s 8ms/step - loss: 0.2968 - mae: 0.2968\n",
      "Epoch 81/100\n",
      "1/1 [==============================] - 0s 0s/step - loss: 0.2355 - mae: 0.2355\n",
      "Epoch 82/100\n",
      "1/1 [==============================] - 0s 0s/step - loss: 0.1633 - mae: 0.1633\n",
      "Epoch 83/100\n",
      "1/1 [==============================] - 0s 0s/step - loss: 0.1339 - mae: 0.1339\n",
      "Epoch 84/100\n",
      "1/1 [==============================] - 0s 0s/step - loss: 0.1262 - mae: 0.1262\n",
      "Epoch 85/100\n",
      "1/1 [==============================] - 0s 8ms/step - loss: 0.1702 - mae: 0.1702\n",
      "Epoch 86/100\n",
      "1/1 [==============================] - 0s 0s/step - loss: 0.2124 - mae: 0.2124\n",
      "Epoch 87/100\n",
      "1/1 [==============================] - 0s 0s/step - loss: 0.2288 - mae: 0.2288\n",
      "Epoch 88/100\n",
      "1/1 [==============================] - 0s 8ms/step - loss: 0.1901 - mae: 0.1901\n",
      "Epoch 89/100\n"
     ]
    },
    {
     "name": "stdout",
     "output_type": "stream",
     "text": [
      "1/1 [==============================] - 0s 0s/step - loss: 0.1354 - mae: 0.1354\n",
      "Epoch 90/100\n",
      "1/1 [==============================] - 0s 0s/step - loss: 0.1218 - mae: 0.1218\n",
      "Epoch 91/100\n",
      "1/1 [==============================] - 0s 0s/step - loss: 0.0382 - mae: 0.0382\n",
      "Epoch 92/100\n",
      "1/1 [==============================] - 0s 0s/step - loss: 0.2197 - mae: 0.2197\n",
      "Epoch 93/100\n",
      "1/1 [==============================] - 0s 8ms/step - loss: 0.2189 - mae: 0.2189\n",
      "Epoch 94/100\n",
      "1/1 [==============================] - 0s 0s/step - loss: 0.1427 - mae: 0.1427\n",
      "Epoch 95/100\n",
      "1/1 [==============================] - 0s 0s/step - loss: 0.1168 - mae: 0.1168\n",
      "Epoch 96/100\n",
      "1/1 [==============================] - 0s 2ms/step - loss: 0.2069 - mae: 0.2069\n",
      "Epoch 97/100\n",
      "1/1 [==============================] - 0s 3ms/step - loss: 0.1524 - mae: 0.1524\n",
      "Epoch 98/100\n",
      "1/1 [==============================] - 0s 2ms/step - loss: 0.2133 - mae: 0.2133\n",
      "Epoch 99/100\n",
      "1/1 [==============================] - 0s 2ms/step - loss: 0.2329 - mae: 0.2329\n",
      "Epoch 100/100\n",
      "1/1 [==============================] - 0s 1ms/step - loss: 0.0780 - mae: 0.0780\n"
     ]
    },
    {
     "data": {
      "text/plain": [
       "<tensorflow.python.keras.callbacks.History at 0x1c02ee15c10>"
      ]
     },
     "execution_count": 11,
     "metadata": {},
     "output_type": "execute_result"
    }
   ],
   "source": [
    "# 1. Create a model\n",
    "model = tf.keras.Sequential([\n",
    "    tf.keras.layers.Dense(50, activation=None),\n",
    "    tf.keras.layers.Dense(1)\n",
    "])\n",
    "\n",
    "# 2. Compile the model\n",
    "model.compile(loss= tf.keras.losses.mae,\n",
    "             optimizer = tf.keras.optimizers.Adam(lr= 0.01),\n",
    "             metrics=['mae'])\n",
    "\n",
    "# 3. Fit the model\n",
    "model.fit(X, y, epochs=100)"
   ]
  },
  {
   "cell_type": "code",
   "execution_count": 12,
   "id": "b9e3c0fa",
   "metadata": {},
   "outputs": [
    {
     "data": {
      "text/plain": [
       "array([[26.583529]], dtype=float32)"
      ]
     },
     "execution_count": 12,
     "metadata": {},
     "output_type": "execute_result"
    }
   ],
   "source": [
    "# make the prediction\n",
    "model.predict([17.0])"
   ]
  },
  {
   "cell_type": "markdown",
   "id": "1576f85c",
   "metadata": {},
   "source": [
    "## Common ways to Improve the model\n",
    "`` Adding more Hidden Layers``\n",
    "`` Increase the number of hidden units``\n",
    "``Changing the optimizers``\n",
    "``increasing the epochs``\n",
    "``Changing the Learning rate ``\n",
    "``Fitting on more data``"
   ]
  },
  {
   "cell_type": "markdown",
   "id": "39babdc9",
   "metadata": {},
   "source": [
    "## Evaluating a model\n",
    "In practice, a typical workflow you'll go through when building a neural network is:\n",
    "\n",
    "```\n",
    "Build a model -> fit it -> evaluate it -> tweak a model -> fit it -> evaluate it -> tweak a model -> fit it ```\n",
    "\n",
    "When it comes to evaluation... there a three words you should memorize\n",
    "> Visualize, visualize, visualize\n",
    "\n",
    "It's a good idea to visualize:\n",
    " * The data - what data are we working with? what does it look like?\n",
    " * The model itself - what does our model look like?\n",
    " * The training of a model - how does a model perform while it learns?\n",
    " * the prediction of the model - how do the predictions of a model line up against the ground truth? (The original label)"
   ]
  },
  {
   "cell_type": "code",
   "execution_count": 13,
   "id": "690bf6c0",
   "metadata": {},
   "outputs": [
    {
     "data": {
      "text/plain": [
       "<tf.Tensor: shape=(50,), dtype=int32, numpy=\n",
       "array([-100,  -96,  -92,  -88,  -84,  -80,  -76,  -72,  -68,  -64,  -60,\n",
       "        -56,  -52,  -48,  -44,  -40,  -36,  -32,  -28,  -24,  -20,  -16,\n",
       "        -12,   -8,   -4,    0,    4,    8,   12,   16,   20,   24,   28,\n",
       "         32,   36,   40,   44,   48,   52,   56,   60,   64,   68,   72,\n",
       "         76,   80,   84,   88,   92,   96])>"
      ]
     },
     "execution_count": 13,
     "metadata": {},
     "output_type": "execute_result"
    }
   ],
   "source": [
    "# make a bigger dataset\n",
    "X = tf.range(-100, 100, 4)\n",
    "X"
   ]
  },
  {
   "cell_type": "code",
   "execution_count": 14,
   "id": "ccc17ad2",
   "metadata": {},
   "outputs": [
    {
     "data": {
      "text/plain": [
       "<tf.Tensor: shape=(50,), dtype=int32, numpy=\n",
       "array([-90, -86, -82, -78, -74, -70, -66, -62, -58, -54, -50, -46, -42,\n",
       "       -38, -34, -30, -26, -22, -18, -14, -10,  -6,  -2,   2,   6,  10,\n",
       "        14,  18,  22,  26,  30,  34,  38,  42,  46,  50,  54,  58,  62,\n",
       "        66,  70,  74,  78,  82,  86,  90,  94,  98, 102, 106])>"
      ]
     },
     "execution_count": 14,
     "metadata": {},
     "output_type": "execute_result"
    }
   ],
   "source": [
    " # make the labels\n",
    "y = X + 10\n",
    "y"
   ]
  },
  {
   "cell_type": "code",
   "execution_count": 15,
   "id": "a7c95106",
   "metadata": {},
   "outputs": [
    {
     "data": {
      "text/plain": [
       "[<matplotlib.lines.Line2D at 0x1c03036b3a0>]"
      ]
     },
     "execution_count": 15,
     "metadata": {},
     "output_type": "execute_result"
    },
    {
     "data": {
      "image/png": "[encoded data removed]",
      "text/plain": [
       "<Figure size 432x288 with 1 Axes>"
      ]
     },
     "metadata": {
      "needs_background": "light"
     },
     "output_type": "display_data"
    }
   ],
   "source": [
    "#visualize the dataste\n",
    "plt.plot(X, y)"
   ]
  },
  {
   "cell_type": "code",
   "execution_count": 16,
   "id": "85f1ef57",
   "metadata": {},
   "outputs": [
    {
     "data": {
      "text/plain": [
       "<matplotlib.collections.PathCollection at 0x1c030397dc0>"
      ]
     },
     "execution_count": 16,
     "metadata": {},
     "output_type": "execute_result"
    },
    {
     "data": {
      "image/png": "[encoded data removed]",
      "text/plain": [
       "<Figure size 432x288 with 1 Axes>"
      ]
     },
     "metadata": {
      "needs_background": "light"
     },
     "output_type": "display_data"
    }
   ],
   "source": [
    "plt.scatter(X, y)"
   ]
  },
  {
   "cell_type": "markdown",
   "id": "6c22592a",
   "metadata": {},
   "source": [
    "### The 3 sets...\n",
    "* Training set - the model learns from this data, which is typically 70-80% of the total data you have available\n",
    "* Validation Set - the model gets tuned on this data, which is typically 10-15% of the data available\n",
    "* Test set - the model gets evaluated on this data to test what it has learned, this is typically 10-15% of the local dataset available"
   ]
  },
  {
   "cell_type": "code",
   "execution_count": 17,
   "id": "6911615b",
   "metadata": {},
   "outputs": [
    {
     "data": {
      "text/plain": [
       "50"
      ]
     },
     "execution_count": 17,
     "metadata": {},
     "output_type": "execute_result"
    }
   ],
   "source": [
    "# check the length of the dataset we have\n",
    "len(X)"
   ]
  },
  {
   "cell_type": "code",
   "execution_count": 18,
   "id": "2610d161",
   "metadata": {},
   "outputs": [
    {
     "data": {
      "text/plain": [
       "(40, 10, 40, 10)"
      ]
     },
     "execution_count": 18,
     "metadata": {},
     "output_type": "execute_result"
    }
   ],
   "source": [
    "#split the data into training and test sets\n",
    "x_train = X[:40] \n",
    "y_train = y[:40]\n",
    "\n",
    "x_test = X[40:]\n",
    "y_test = y[40:]\n",
    "len(x_train), len(x_test), len(y_train), len(y_test)"
   ]
  },
  {
   "cell_type": "markdown",
   "id": "d2f93871",
   "metadata": {},
   "source": [
    "### Visualizing the data\n",
    "Now we've got our data in training and test sets... let's visualize it again"
   ]
  },
  {
   "cell_type": "code",
   "execution_count": 20,
   "id": "f4f8c85a",
   "metadata": {},
   "outputs": [
    {
     "data": {
      "image/png": "[encoded data removed]",
      "text/plain": [
       "<Figure size 720x504 with 1 Axes>"
      ]
     },
     "metadata": {
      "needs_background": "light"
     },
     "output_type": "display_data"
    }
   ],
   "source": [
    "plt.figure(figsize=(10,7))\n",
    "#plot training data in blue\n",
    "plt.scatter(x_train, y_train, c='b', label = 'Training data')\n",
    "\n",
    "#plot training data in green\n",
    "plt.scatter(x_test, y_test, c='g', label= 'Testing data')\n",
    "\n",
    "#show a legend\n",
    "plt.legend();"
   ]
  },
  {
   "cell_type": "code",
   "execution_count": 21,
   "id": "04db5d94",
   "metadata": {},
   "outputs": [
    {
     "name": "stdout",
     "output_type": "stream",
     "text": [
      "Epoch 1/100\n",
      "2/2 [==============================] - 0s 0s/step - loss: 10.5273 - mae: 10.5273\n",
      "Epoch 2/100\n",
      "2/2 [==============================] - 0s 0s/step - loss: 9.3906 - mae: 9.3906\n",
      "Epoch 3/100\n",
      "2/2 [==============================] - 0s 0s/step - loss: 7.6292 - mae: 7.6292\n",
      "Epoch 4/100\n",
      "2/2 [==============================] - 0s 0s/step - loss: 9.6859 - mae: 9.6859\n",
      "Epoch 5/100\n",
      "2/2 [==============================] - 0s 0s/step - loss: 11.0740 - mae: 11.0740\n",
      "Epoch 6/100\n",
      "2/2 [==============================] - 0s 0s/step - loss: 10.2264 - mae: 10.2264\n",
      "Epoch 7/100\n",
      "2/2 [==============================] - 0s 2ms/step - loss: 9.2347 - mae: 9.2347\n",
      "Epoch 8/100\n",
      "2/2 [==============================] - 0s 1ms/step - loss: 9.1547 - mae: 9.1547\n",
      "Epoch 9/100\n",
      "2/2 [==============================] - 0s 2ms/step - loss: 11.7875 - mae: 11.7875\n",
      "Epoch 10/100\n",
      "2/2 [==============================] - 0s 2ms/step - loss: 13.7172 - mae: 13.7172\n",
      "Epoch 11/100\n",
      "2/2 [==============================] - 0s 1ms/step - loss: 11.8015 - mae: 11.8015\n",
      "Epoch 12/100\n",
      "2/2 [==============================] - 0s 0s/step - loss: 16.3555 - mae: 16.3555\n",
      "Epoch 13/100\n",
      "2/2 [==============================] - 0s 0s/step - loss: 11.9043 - mae: 11.9043\n",
      "Epoch 14/100\n",
      "2/2 [==============================] - 0s 0s/step - loss: 13.8239 - mae: 13.8239\n",
      "Epoch 15/100\n",
      "2/2 [==============================] - 0s 0s/step - loss: 11.2084 - mae: 11.2084\n",
      "Epoch 16/100\n",
      "2/2 [==============================] - 0s 0s/step - loss: 8.5877 - mae: 8.5877\n",
      "Epoch 17/100\n",
      "2/2 [==============================] - 0s 0s/step - loss: 13.7567 - mae: 13.7567\n",
      "Epoch 18/100\n",
      "2/2 [==============================] - 0s 4ms/step - loss: 11.6177 - mae: 11.6177\n",
      "Epoch 19/100\n",
      "2/2 [==============================] - 0s 0s/step - loss: 17.7100 - mae: 17.7100\n",
      "Epoch 20/100\n",
      "2/2 [==============================] - 0s 4ms/step - loss: 14.8462 - mae: 14.8462\n",
      "Epoch 21/100\n",
      "2/2 [==============================] - 0s 4ms/step - loss: 10.7513 - mae: 10.7513\n",
      "Epoch 22/100\n",
      "2/2 [==============================] - 0s 4ms/step - loss: 8.4917 - mae: 8.4917\n",
      "Epoch 23/100\n",
      "2/2 [==============================] - 0s 4ms/step - loss: 9.7766 - mae: 9.7766\n",
      "Epoch 24/100\n",
      "2/2 [==============================] - 0s 0s/step - loss: 10.8531 - mae: 10.8531\n",
      "Epoch 25/100\n",
      "2/2 [==============================] - 0s 0s/step - loss: 9.1113 - mae: 9.1113\n",
      "Epoch 26/100\n",
      "2/2 [==============================] - 0s 0s/step - loss: 13.0840 - mae: 13.0840\n",
      "Epoch 27/100\n",
      "2/2 [==============================] - 0s 2ms/step - loss: 10.4066 - mae: 10.4066\n",
      "Epoch 28/100\n",
      "2/2 [==============================] - 0s 2ms/step - loss: 13.4238 - mae: 13.4238\n",
      "Epoch 29/100\n",
      "2/2 [==============================] - 0s 2ms/step - loss: 9.6076 - mae: 9.6076\n",
      "Epoch 30/100\n",
      "2/2 [==============================] - 0s 2ms/step - loss: 17.2601 - mae: 17.2601\n",
      "Epoch 31/100\n",
      "2/2 [==============================] - 0s 1ms/step - loss: 22.8003 - mae: 22.8003\n",
      "Epoch 32/100\n",
      "2/2 [==============================] - 0s 4ms/step - loss: 7.9049 - mae: 7.9049\n",
      "Epoch 33/100\n",
      "2/2 [==============================] - 0s 4ms/step - loss: 14.1734 - mae: 14.1734\n",
      "Epoch 34/100\n",
      "2/2 [==============================] - 0s 0s/step - loss: 12.4283 - mae: 12.4283\n",
      "Epoch 35/100\n",
      "2/2 [==============================] - 0s 4ms/step - loss: 8.2339 - mae: 8.2339\n",
      "Epoch 36/100\n",
      "2/2 [==============================] - 0s 0s/step - loss: 10.4408 - mae: 10.4408\n",
      "Epoch 37/100\n",
      "2/2 [==============================] - 0s 4ms/step - loss: 10.0926 - mae: 10.0926\n",
      "Epoch 38/100\n",
      "2/2 [==============================] - 0s 4ms/step - loss: 11.2658 - mae: 11.2658\n",
      "Epoch 39/100\n",
      "2/2 [==============================] - 0s 4ms/step - loss: 14.7947 - mae: 14.7947\n",
      "Epoch 40/100\n",
      "2/2 [==============================] - 0s 0s/step - loss: 12.9246 - mae: 12.9246\n",
      "Epoch 41/100\n",
      "2/2 [==============================] - 0s 4ms/step - loss: 9.3199 - mae: 9.3199\n",
      "Epoch 42/100\n",
      "2/2 [==============================] - 0s 0s/step - loss: 10.9560 - mae: 10.9560\n",
      "Epoch 43/100\n",
      "2/2 [==============================] - 0s 4ms/step - loss: 8.3161 - mae: 8.3161\n",
      "Epoch 44/100\n",
      "2/2 [==============================] - 0s 0s/step - loss: 12.9795 - mae: 12.9795\n",
      "Epoch 45/100\n",
      "2/2 [==============================] - 0s 4ms/step - loss: 13.7222 - mae: 13.7222\n",
      "Epoch 46/100\n",
      "2/2 [==============================] - 0s 0s/step - loss: 8.4129 - mae: 8.4129\n",
      "Epoch 47/100\n",
      "2/2 [==============================] - 0s 4ms/step - loss: 9.1536 - mae: 9.1536\n",
      "Epoch 48/100\n",
      "2/2 [==============================] - 0s 0s/step - loss: 10.6543 - mae: 10.6543\n",
      "Epoch 49/100\n",
      "2/2 [==============================] - 0s 0s/step - loss: 7.7674 - mae: 7.7674\n",
      "Epoch 50/100\n",
      "2/2 [==============================] - 0s 0s/step - loss: 9.5726 - mae: 9.5726\n",
      "Epoch 51/100\n",
      "2/2 [==============================] - 0s 0s/step - loss: 9.1575 - mae: 9.1575\n",
      "Epoch 52/100\n",
      "2/2 [==============================] - 0s 0s/step - loss: 16.4515 - mae: 16.4515\n",
      "Epoch 53/100\n",
      "2/2 [==============================] - 0s 4ms/step - loss: 14.0818 - mae: 14.0818\n",
      "Epoch 54/100\n",
      "2/2 [==============================] - 0s 4ms/step - loss: 21.0172 - mae: 21.0172\n",
      "Epoch 55/100\n",
      "2/2 [==============================] - 0s 0s/step - loss: 16.4738 - mae: 16.4738\n",
      "Epoch 56/100\n",
      "2/2 [==============================] - 0s 4ms/step - loss: 9.8662 - mae: 9.8662\n",
      "Epoch 57/100\n",
      "2/2 [==============================] - 0s 4ms/step - loss: 9.6413 - mae: 9.6413\n",
      "Epoch 58/100\n",
      "2/2 [==============================] - 0s 4ms/step - loss: 8.9628 - mae: 8.9628\n",
      "Epoch 59/100\n",
      "2/2 [==============================] - 0s 4ms/step - loss: 10.1686 - mae: 10.1686\n",
      "Epoch 60/100\n",
      "2/2 [==============================] - 0s 0s/step - loss: 8.4129 - mae: 8.4129\n",
      "Epoch 61/100\n",
      "2/2 [==============================] - 0s 0s/step - loss: 9.2533 - mae: 9.2533\n",
      "Epoch 62/100\n",
      "2/2 [==============================] - 0s 0s/step - loss: 7.0626 - mae: 7.0626\n",
      "Epoch 63/100\n",
      "2/2 [==============================] - 0s 4ms/step - loss: 8.6398 - mae: 8.6398\n",
      "Epoch 64/100\n",
      "2/2 [==============================] - 0s 4ms/step - loss: 9.2166 - mae: 9.2166\n",
      "Epoch 65/100\n",
      "2/2 [==============================] - 0s 4ms/step - loss: 10.4767 - mae: 10.4767\n",
      "Epoch 66/100\n",
      "2/2 [==============================] - 0s 4ms/step - loss: 15.6303 - mae: 15.6303\n",
      "Epoch 67/100\n",
      "2/2 [==============================] - 0s 0s/step - loss: 10.0248 - mae: 10.0248\n",
      "Epoch 68/100\n",
      "2/2 [==============================] - 0s 0s/step - loss: 9.0030 - mae: 9.0030\n",
      "Epoch 69/100\n",
      "2/2 [==============================] - 0s 0s/step - loss: 12.4993 - mae: 12.4993\n",
      "Epoch 70/100\n",
      "2/2 [==============================] - 0s 4ms/step - loss: 8.9709 - mae: 8.9709\n",
      "Epoch 71/100\n",
      "2/2 [==============================] - 0s 0s/step - loss: 9.9493 - mae: 9.9493\n",
      "Epoch 72/100\n",
      "2/2 [==============================] - 0s 0s/step - loss: 9.9817 - mae: 9.9817\n",
      "Epoch 73/100\n",
      "2/2 [==============================] - 0s 0s/step - loss: 12.4756 - mae: 12.4756\n",
      "Epoch 74/100\n",
      "2/2 [==============================] - 0s 0s/step - loss: 10.5140 - mae: 10.5140\n",
      "Epoch 75/100\n",
      "2/2 [==============================] - 0s 0s/step - loss: 9.6442 - mae: 9.6442\n",
      "Epoch 76/100\n",
      "2/2 [==============================] - 0s 4ms/step - loss: 11.1190 - mae: 11.1190\n",
      "Epoch 77/100\n",
      "2/2 [==============================] - 0s 4ms/step - loss: 8.2914 - mae: 8.2914\n",
      "Epoch 78/100\n",
      "2/2 [==============================] - 0s 4ms/step - loss: 8.9997 - mae: 8.9997\n",
      "Epoch 79/100\n",
      "2/2 [==============================] - 0s 0s/step - loss: 19.7057 - mae: 19.7057\n",
      "Epoch 80/100\n",
      "2/2 [==============================] - 0s 0s/step - loss: 17.8733 - mae: 17.8733\n",
      "Epoch 81/100\n",
      "2/2 [==============================] - 0s 0s/step - loss: 7.0400 - mae: 7.0400\n",
      "Epoch 82/100\n",
      "2/2 [==============================] - 0s 0s/step - loss: 10.4264 - mae: 10.4264\n",
      "Epoch 83/100\n",
      "2/2 [==============================] - 0s 0s/step - loss: 9.8572 - mae: 9.8572\n",
      "Epoch 84/100\n",
      "2/2 [==============================] - 0s 0s/step - loss: 7.9069 - mae: 7.9069\n",
      "Epoch 85/100\n",
      "2/2 [==============================] - 0s 0s/step - loss: 9.4048 - mae: 9.4048\n",
      "Epoch 86/100\n",
      "2/2 [==============================] - 0s 0s/step - loss: 9.2307 - mae: 9.2307\n",
      "Epoch 87/100\n",
      "2/2 [==============================] - 0s 4ms/step - loss: 12.0129 - mae: 12.0129\n",
      "Epoch 88/100\n"
     ]
    },
    {
     "name": "stdout",
     "output_type": "stream",
     "text": [
      "2/2 [==============================] - 0s 4ms/step - loss: 10.6296 - mae: 10.6296\n",
      "Epoch 89/100\n",
      "2/2 [==============================] - 0s 4ms/step - loss: 7.2506 - mae: 7.2506\n",
      "Epoch 90/100\n",
      "2/2 [==============================] - 0s 4ms/step - loss: 12.7702 - mae: 12.7702\n",
      "Epoch 91/100\n",
      "2/2 [==============================] - 0s 4ms/step - loss: 7.4544 - mae: 7.4544\n",
      "Epoch 92/100\n",
      "2/2 [==============================] - 0s 4ms/step - loss: 6.7385 - mae: 6.7385\n",
      "Epoch 93/100\n",
      "2/2 [==============================] - 0s 3ms/step - loss: 11.9206 - mae: 11.9206\n",
      "Epoch 94/100\n",
      "2/2 [==============================] - 0s 2ms/step - loss: 8.8548 - mae: 8.8548\n",
      "Epoch 95/100\n",
      "2/2 [==============================] - 0s 2ms/step - loss: 7.6966 - mae: 7.6966\n",
      "Epoch 96/100\n",
      "2/2 [==============================] - 0s 2ms/step - loss: 6.7327 - mae: 6.7327\n",
      "Epoch 97/100\n",
      "2/2 [==============================] - 0s 2ms/step - loss: 8.6033 - mae: 8.6033\n",
      "Epoch 98/100\n",
      "2/2 [==============================] - 0s 0s/step - loss: 9.3858 - mae: 9.3858\n",
      "Epoch 99/100\n",
      "2/2 [==============================] - 0s 0s/step - loss: 9.1203 - mae: 9.1203\n",
      "Epoch 100/100\n",
      "2/2 [==============================] - 0s 0s/step - loss: 10.4808 - mae: 10.4808\n"
     ]
    },
    {
     "data": {
      "text/plain": [
       "<tensorflow.python.keras.callbacks.History at 0x1c0306b2610>"
      ]
     },
     "execution_count": 21,
     "metadata": {},
     "output_type": "execute_result"
    }
   ],
   "source": [
    "# Let's build a NN for our data\n",
    "\n",
    "# 1. Create a model\n",
    "model = tf.keras.Sequential([\n",
    "    tf.keras.layers.Dense(1)\n",
    "])\n",
    "\n",
    "# 2. Compile the model\n",
    "model.compile(loss = tf.keras.losses.mae,\n",
    "             optimizer = tf.keras.optimizers.SGD(),\n",
    "             metrics= ['mae'])\n",
    "\n",
    "# 3. Fit the model\n",
    "model.fit(x_train, y_train)"
   ]
  },
  {
   "cell_type": "code",
   "execution_count": 63,
   "id": "50075a1e",
   "metadata": {},
   "outputs": [
    {
     "name": "stdout",
     "output_type": "stream",
     "text": [
      "Model: \"model_summary\"\n",
      "_________________________________________________________________\n",
      "Layer (type)                 Output Shape              Param #   \n",
      "=================================================================\n",
      "input_layer (Dense)          (None, 10)                20        \n",
      "_________________________________________________________________\n",
      "inner_layer (Dense)          (None, 10)                110       \n",
      "_________________________________________________________________\n",
      "dense_6 (Dense)              (None, 10)                110       \n",
      "_________________________________________________________________\n",
      "output_layer (Dense)         (None, 1)                 11        \n",
      "=================================================================\n",
      "Total params: 251\n",
      "Trainable params: 251\n",
      "Non-trainable params: 0\n",
      "_________________________________________________________________\n"
     ]
    }
   ],
   "source": [
    "# let's create a model which builds automatically by defining the input_shape argument in the first layer\n",
    "tf.random.set_seed(42)\n",
    "\n",
    "model = tf.keras.Sequential([\n",
    "    tf.keras.layers.Dense(10, input_shape=[1], name= 'input_layer'),\n",
    "    tf.keras.layers.Dense(10, input_shape=[1], name= 'inner_layer'),\n",
    "    tf.keras.layers.Dense(10, input_shape=[1]),\n",
    "    tf.keras.layers.Dense(1, name= 'output_layer')\n",
    "], name= 'model_summary')\n",
    "\n",
    "model.compile(loss =tf.keras.losses.mae,\n",
    "             optimizer = tf.keras.optimizers.Adam(learning_rate= 0.001),\n",
    "             metrics= ['mae'])\n",
    "\n",
    "model.summary()"
   ]
  },
  {
   "cell_type": "markdown",
   "id": "4e4b1c10",
   "metadata": {},
   "source": [
    "* Total params -  total number of parameters in the model\n",
    "* Trainable params - these are the parameters (patterns) the model can update as it trains\n",
    "* Non-trainable params -  these parameters aren't updated during training (thus is typical when you bring in already learn patterns or patterns or parameters from other models during **transfer learning**)"
   ]
  },
  {
   "cell_type": "code",
   "execution_count": 64,
   "id": "58fc92d3",
   "metadata": {},
   "outputs": [
    {
     "name": "stdout",
     "output_type": "stream",
     "text": [
      "Epoch 1/100\n",
      "2/2 [==============================] - 0s 1ms/step - loss: 68.0798 - mae: 68.0798\n",
      "Epoch 2/100\n",
      "2/2 [==============================] - 0s 1ms/step - loss: 66.2525 - mae: 66.2525\n",
      "Epoch 3/100\n",
      "2/2 [==============================] - 0s 997us/step - loss: 64.5271 - mae: 64.5271\n",
      "Epoch 4/100\n",
      "2/2 [==============================] - 0s 2ms/step - loss: 62.8168 - mae: 62.8168\n",
      "Epoch 5/100\n",
      "2/2 [==============================] - 0s 1ms/step - loss: 61.1792 - mae: 61.1792\n",
      "Epoch 6/100\n",
      "2/2 [==============================] - 0s 2ms/step - loss: 59.5669 - mae: 59.5669\n",
      "Epoch 7/100\n",
      "2/2 [==============================] - 0s 1ms/step - loss: 57.9758 - mae: 57.9758\n",
      "Epoch 8/100\n",
      "2/2 [==============================] - 0s 1ms/step - loss: 56.3564 - mae: 56.3564\n",
      "Epoch 9/100\n",
      "2/2 [==============================] - 0s 1ms/step - loss: 54.8721 - mae: 54.8721\n",
      "Epoch 10/100\n",
      "2/2 [==============================] - 0s 1ms/step - loss: 53.3856 - mae: 53.3856\n",
      "Epoch 11/100\n",
      "2/2 [==============================] - 0s 1ms/step - loss: 51.8078 - mae: 51.8078\n",
      "Epoch 12/100\n",
      "2/2 [==============================] - 0s 1ms/step - loss: 50.3375 - mae: 50.3375\n",
      "Epoch 13/100\n",
      "2/2 [==============================] - 0s 2ms/step - loss: 48.7914 - mae: 48.7914\n",
      "Epoch 14/100\n",
      "2/2 [==============================] - 0s 1ms/step - loss: 47.3173 - mae: 47.3173\n",
      "Epoch 15/100\n",
      "2/2 [==============================] - 0s 1ms/step - loss: 45.8379 - mae: 45.8379\n",
      "Epoch 16/100\n",
      "2/2 [==============================] - 0s 2ms/step - loss: 44.2844 - mae: 44.2844\n",
      "Epoch 17/100\n",
      "2/2 [==============================] - 0s 2ms/step - loss: 42.7450 - mae: 42.7450\n",
      "Epoch 18/100\n",
      "2/2 [==============================] - 0s 2ms/step - loss: 41.2054 - mae: 41.2054\n",
      "Epoch 19/100\n",
      "2/2 [==============================] - 0s 2ms/step - loss: 39.6729 - mae: 39.6729\n",
      "Epoch 20/100\n",
      "2/2 [==============================] - 0s 2ms/step - loss: 38.0548 - mae: 38.0548\n",
      "Epoch 21/100\n",
      "2/2 [==============================] - 0s 2ms/step - loss: 36.4359 - mae: 36.4359\n",
      "Epoch 22/100\n",
      "2/2 [==============================] - 0s 1ms/step - loss: 34.8464 - mae: 34.8464\n",
      "Epoch 23/100\n",
      "2/2 [==============================] - 0s 1ms/step - loss: 33.1949 - mae: 33.1949\n",
      "Epoch 24/100\n",
      "2/2 [==============================] - 0s 2ms/step - loss: 31.4756 - mae: 31.4756\n",
      "Epoch 25/100\n",
      "2/2 [==============================] - 0s 1ms/step - loss: 29.7461 - mae: 29.7461\n",
      "Epoch 26/100\n",
      "2/2 [==============================] - 0s 2ms/step - loss: 28.0129 - mae: 28.0129\n",
      "Epoch 27/100\n",
      "2/2 [==============================] - 0s 1ms/step - loss: 26.1346 - mae: 26.1346\n",
      "Epoch 28/100\n",
      "2/2 [==============================] - 0s 2ms/step - loss: 24.3333 - mae: 24.3333\n",
      "Epoch 29/100\n",
      "2/2 [==============================] - 0s 2ms/step - loss: 22.2863 - mae: 22.2863\n",
      "Epoch 30/100\n",
      "2/2 [==============================] - 0s 2ms/step - loss: 20.2426 - mae: 20.2426\n",
      "Epoch 31/100\n",
      "2/2 [==============================] - 0s 2ms/step - loss: 18.3613 - mae: 18.3613\n",
      "Epoch 32/100\n",
      "2/2 [==============================] - 0s 1ms/step - loss: 16.2897 - mae: 16.2897\n",
      "Epoch 33/100\n",
      "2/2 [==============================] - 0s 1ms/step - loss: 14.1544 - mae: 14.1544\n",
      "Epoch 34/100\n",
      "2/2 [==============================] - 0s 1ms/step - loss: 12.2877 - mae: 12.2877\n",
      "Epoch 35/100\n",
      "2/2 [==============================] - 0s 1ms/step - loss: 10.3857 - mae: 10.3857\n",
      "Epoch 36/100\n",
      "2/2 [==============================] - 0s 1ms/step - loss: 8.8164 - mae: 8.8164\n",
      "Epoch 37/100\n",
      "2/2 [==============================] - 0s 997us/step - loss: 8.0360 - mae: 8.0360\n",
      "Epoch 38/100\n",
      "2/2 [==============================] - 0s 1ms/step - loss: 8.3213 - mae: 8.3213\n",
      "Epoch 39/100\n",
      "2/2 [==============================] - 0s 2ms/step - loss: 8.8899 - mae: 8.8899\n",
      "Epoch 40/100\n",
      "2/2 [==============================] - 0s 3ms/step - loss: 9.1228 - mae: 9.1228\n",
      "Epoch 41/100\n",
      "2/2 [==============================] - 0s 2ms/step - loss: 9.1159 - mae: 9.1159\n",
      "Epoch 42/100\n",
      "2/2 [==============================] - 0s 2ms/step - loss: 8.9238 - mae: 8.9238\n",
      "Epoch 43/100\n",
      "2/2 [==============================] - 0s 2ms/step - loss: 8.5970 - mae: 8.5970\n",
      "Epoch 44/100\n",
      "2/2 [==============================] - 0s 2ms/step - loss: 8.1682 - mae: 8.1682\n",
      "Epoch 45/100\n",
      "2/2 [==============================] - 0s 1ms/step - loss: 7.7053 - mae: 7.7053\n",
      "Epoch 46/100\n",
      "2/2 [==============================] - 0s 2ms/step - loss: 7.7255 - mae: 7.7255\n",
      "Epoch 47/100\n",
      "2/2 [==============================] - 0s 1ms/step - loss: 8.0235 - mae: 8.0235\n",
      "Epoch 48/100\n",
      "2/2 [==============================] - 0s 3ms/step - loss: 8.2280 - mae: 8.2280\n",
      "Epoch 49/100\n",
      "2/2 [==============================] - 0s 1ms/step - loss: 8.2835 - mae: 8.2835\n",
      "Epoch 50/100\n",
      "2/2 [==============================] - 0s 1ms/step - loss: 8.2046 - mae: 8.2046\n",
      "Epoch 51/100\n",
      "2/2 [==============================] - 0s 2ms/step - loss: 8.0082 - mae: 8.0082\n",
      "Epoch 52/100\n",
      "2/2 [==============================] - 0s 1ms/step - loss: 7.8543 - mae: 7.8543\n",
      "Epoch 53/100\n",
      "2/2 [==============================] - 0s 2ms/step - loss: 7.6262 - mae: 7.6262\n",
      "Epoch 54/100\n",
      "2/2 [==============================] - 0s 1ms/step - loss: 7.5386 - mae: 7.5386\n",
      "Epoch 55/100\n",
      "2/2 [==============================] - 0s 2ms/step - loss: 7.5218 - mae: 7.5218\n",
      "Epoch 56/100\n",
      "2/2 [==============================] - 0s 999us/step - loss: 7.5201 - mae: 7.5201\n",
      "Epoch 57/100\n",
      "2/2 [==============================] - 0s 1ms/step - loss: 7.5158 - mae: 7.5158\n",
      "Epoch 58/100\n",
      "2/2 [==============================] - 0s 998us/step - loss: 7.5195 - mae: 7.5195\n",
      "Epoch 59/100\n",
      "2/2 [==============================] - 0s 2ms/step - loss: 7.4841 - mae: 7.4841\n",
      "Epoch 60/100\n",
      "2/2 [==============================] - 0s 2ms/step - loss: 7.4367 - mae: 7.4367\n",
      "Epoch 61/100\n",
      "2/2 [==============================] - 0s 2ms/step - loss: 7.3965 - mae: 7.3965\n",
      "Epoch 62/100\n",
      "2/2 [==============================] - 0s 1ms/step - loss: 7.3914 - mae: 7.3914\n",
      "Epoch 63/100\n",
      "2/2 [==============================] - 0s 3ms/step - loss: 7.3966 - mae: 7.3966\n",
      "Epoch 64/100\n",
      "2/2 [==============================] - 0s 2ms/step - loss: 7.4311 - mae: 7.4311\n",
      "Epoch 65/100\n",
      "2/2 [==============================] - 0s 2ms/step - loss: 7.4184 - mae: 7.4184\n",
      "Epoch 66/100\n",
      "2/2 [==============================] - 0s 2ms/step - loss: 7.3736 - mae: 7.3736\n",
      "Epoch 67/100\n",
      "2/2 [==============================] - 0s 1ms/step - loss: 7.3098 - mae: 7.3098\n",
      "Epoch 68/100\n",
      "2/2 [==============================] - 0s 2ms/step - loss: 7.2933 - mae: 7.2933\n",
      "Epoch 69/100\n",
      "2/2 [==============================] - 0s 2ms/step - loss: 7.2801 - mae: 7.2801\n",
      "Epoch 70/100\n",
      "2/2 [==============================] - 0s 1ms/step - loss: 7.2716 - mae: 7.2716\n",
      "Epoch 71/100\n",
      "2/2 [==============================] - 0s 2ms/step - loss: 7.2464 - mae: 7.2464\n",
      "Epoch 72/100\n",
      "2/2 [==============================] - 0s 1ms/step - loss: 7.2221 - mae: 7.2221\n",
      "Epoch 73/100\n",
      "2/2 [==============================] - 0s 1ms/step - loss: 7.2148 - mae: 7.2148\n",
      "Epoch 74/100\n",
      "2/2 [==============================] - 0s 2ms/step - loss: 7.1952 - mae: 7.1952\n",
      "Epoch 75/100\n",
      "2/2 [==============================] - 0s 1ms/step - loss: 7.1786 - mae: 7.1786\n",
      "Epoch 76/100\n",
      "2/2 [==============================] - 0s 1ms/step - loss: 7.1403 - mae: 7.1403\n",
      "Epoch 77/100\n",
      "2/2 [==============================] - 0s 2ms/step - loss: 7.1097 - mae: 7.1097\n",
      "Epoch 78/100\n",
      "2/2 [==============================] - 0s 2ms/step - loss: 7.1137 - mae: 7.1137\n",
      "Epoch 79/100\n",
      "2/2 [==============================] - 0s 1ms/step - loss: 7.1510 - mae: 7.1510\n",
      "Epoch 80/100\n",
      "2/2 [==============================] - 0s 2ms/step - loss: 7.1328 - mae: 7.1328\n",
      "Epoch 81/100\n",
      "2/2 [==============================] - 0s 1ms/step - loss: 7.0822 - mae: 7.0822\n",
      "Epoch 82/100\n",
      "2/2 [==============================] - 0s 1ms/step - loss: 7.0404 - mae: 7.0404\n",
      "Epoch 83/100\n",
      "2/2 [==============================] - 0s 2ms/step - loss: 7.0198 - mae: 7.0198\n",
      "Epoch 84/100\n",
      "2/2 [==============================] - 0s 2ms/step - loss: 7.0003 - mae: 7.0003\n",
      "Epoch 85/100\n",
      "2/2 [==============================] - 0s 2ms/step - loss: 6.9917 - mae: 6.9917\n",
      "Epoch 86/100\n",
      "2/2 [==============================] - 0s 1ms/step - loss: 6.9675 - mae: 6.9675\n",
      "Epoch 87/100\n",
      "2/2 [==============================] - 0s 2ms/step - loss: 6.9604 - mae: 6.9604\n",
      "Epoch 88/100\n"
     ]
    },
    {
     "name": "stdout",
     "output_type": "stream",
     "text": [
      "2/2 [==============================] - 0s 1ms/step - loss: 6.9257 - mae: 6.9257\n",
      "Epoch 89/100\n",
      "2/2 [==============================] - 0s 2ms/step - loss: 6.9259 - mae: 6.9259\n",
      "Epoch 90/100\n",
      "2/2 [==============================] - 0s 2ms/step - loss: 6.9184 - mae: 6.9184\n",
      "Epoch 91/100\n",
      "2/2 [==============================] - 0s 2ms/step - loss: 6.8914 - mae: 6.8914\n",
      "Epoch 92/100\n",
      "2/2 [==============================] - 0s 2ms/step - loss: 6.8556 - mae: 6.8556\n",
      "Epoch 93/100\n",
      "2/2 [==============================] - 0s 1ms/step - loss: 6.8439 - mae: 6.8439\n",
      "Epoch 94/100\n",
      "2/2 [==============================] - 0s 2ms/step - loss: 6.8346 - mae: 6.8346\n",
      "Epoch 95/100\n",
      "2/2 [==============================] - 0s 1ms/step - loss: 6.8218 - mae: 6.8218\n",
      "Epoch 96/100\n",
      "2/2 [==============================] - 0s 2ms/step - loss: 6.7977 - mae: 6.7977\n",
      "Epoch 97/100\n",
      "2/2 [==============================] - 0s 1ms/step - loss: 6.7803 - mae: 6.7803\n",
      "Epoch 98/100\n",
      "2/2 [==============================] - 0s 1ms/step - loss: 6.7678 - mae: 6.7678\n",
      "Epoch 99/100\n",
      "2/2 [==============================] - 0s 1ms/step - loss: 6.7653 - mae: 6.7653\n",
      "Epoch 100/100\n",
      "2/2 [==============================] - 0s 1ms/step - loss: 6.7350 - mae: 6.7350\n"
     ]
    },
    {
     "data": {
      "text/plain": [
       "<tensorflow.python.keras.callbacks.History at 0x1c032615d60>"
      ]
     },
     "execution_count": 64,
     "metadata": {},
     "output_type": "execute_result"
    }
   ],
   "source": [
    "model.fit(x_train, y_train, epochs= 100)"
   ]
  },
  {
   "cell_type": "code",
   "execution_count": 65,
   "id": "47744bc3",
   "metadata": {},
   "outputs": [
    {
     "name": "stdout",
     "output_type": "stream",
     "text": [
      "Model: \"model_summary\"\n",
      "_________________________________________________________________\n",
      "Layer (type)                 Output Shape              Param #   \n",
      "=================================================================\n",
      "input_layer (Dense)          (None, 10)                20        \n",
      "_________________________________________________________________\n",
      "inner_layer (Dense)          (None, 10)                110       \n",
      "_________________________________________________________________\n",
      "dense_6 (Dense)              (None, 10)                110       \n",
      "_________________________________________________________________\n",
      "output_layer (Dense)         (None, 1)                 11        \n",
      "=================================================================\n",
      "Total params: 251\n",
      "Trainable params: 251\n",
      "Non-trainable params: 0\n",
      "_________________________________________________________________\n"
     ]
    }
   ],
   "source": [
    "# Get the summary of the model\n",
    "model.summary()"
   ]
  },
  {
   "cell_type": "code",
   "execution_count": 46,
   "id": "8067cc11",
   "metadata": {},
   "outputs": [
    {
     "ename": "ModuleNotFoundError",
     "evalue": "No module named 'pydot'",
     "output_type": "error",
     "traceback": [
      "\u001b[1;31m---------------------------------------------------------------------------\u001b[0m",
      "\u001b[1;31mModuleNotFoundError\u001b[0m                       Traceback (most recent call last)",
      "\u001b[1;32m<ipython-input-46-b877974f95bf>\u001b[0m in \u001b[0;36m<module>\u001b[1;34m\u001b[0m\n\u001b[1;32m----> 1\u001b[1;33m \u001b[1;32mimport\u001b[0m \u001b[0mpydot\u001b[0m\u001b[1;33m\u001b[0m\u001b[1;33m\u001b[0m\u001b[0m\n\u001b[0m\u001b[0;32m      2\u001b[0m \u001b[1;32mimport\u001b[0m \u001b[0mgraphviz\u001b[0m\u001b[1;33m\u001b[0m\u001b[1;33m\u001b[0m\u001b[0m\n\u001b[0;32m      3\u001b[0m \u001b[1;32mfrom\u001b[0m \u001b[0mtensorflow\u001b[0m\u001b[1;33m.\u001b[0m\u001b[0mkeras\u001b[0m\u001b[1;33m.\u001b[0m\u001b[0mutils\u001b[0m \u001b[1;32mimport\u001b[0m \u001b[0mplot_model\u001b[0m\u001b[1;33m\u001b[0m\u001b[1;33m\u001b[0m\u001b[0m\n\u001b[0;32m      4\u001b[0m \u001b[0mplot_model\u001b[0m\u001b[1;33m(\u001b[0m\u001b[0mmodel\u001b[0m\u001b[1;33m=\u001b[0m \u001b[0mmodel\u001b[0m\u001b[1;33m)\u001b[0m\u001b[1;33m\u001b[0m\u001b[1;33m\u001b[0m\u001b[0m\n",
      "\u001b[1;31mModuleNotFoundError\u001b[0m: No module named 'pydot'"
     ]
    }
   ],
   "source": [
    "import pydot\n",
    "import graphviz\n",
    "from tensorflow.keras.utils import plot_model\n",
    "plot_model(model= model)"
   ]
  },
  {
   "cell_type": "markdown",
   "id": "89d1dacf",
   "metadata": {},
   "source": [
    "### Visualizing model predictions\n",
    "To Visualize predictions, it's a good idea to plot them against the ground truth labels\n",
    "\n",
    "Often you'll see this in the form of `y_test` or `y_true` versus `y_pred` (ground truth versus ur model's predictions)"
   ]
  },
  {
   "cell_type": "code",
   "execution_count": 67,
   "id": "6edb555b",
   "metadata": {},
   "outputs": [
    {
     "data": {
      "text/plain": [
       "array([[54.84395 ],\n",
       "       [58.42042 ],\n",
       "       [61.99689 ],\n",
       "       [65.57337 ],\n",
       "       [69.14983 ],\n",
       "       [72.72631 ],\n",
       "       [76.30279 ],\n",
       "       [79.879265],\n",
       "       [83.45574 ],\n",
       "       [87.032196]], dtype=float32)"
      ]
     },
     "execution_count": 67,
     "metadata": {},
     "output_type": "execute_result"
    }
   ],
   "source": [
    "# Make some predictions\n",
    "y_pred = model.predict(x_test)\n",
    "y_pred"
   ]
  },
  {
   "cell_type": "code",
   "execution_count": 68,
   "id": "b1ccc70d",
   "metadata": {},
   "outputs": [
    {
     "data": {
      "text/plain": [
       "<tf.Tensor: shape=(10,), dtype=int32, numpy=array([ 70,  74,  78,  82,  86,  90,  94,  98, 102, 106])>"
      ]
     },
     "execution_count": 68,
     "metadata": {},
     "output_type": "execute_result"
    }
   ],
   "source": [
    "y_test"
   ]
  },
  {
   "cell_type": "code",
   "execution_count": 49,
   "id": "876e2a0c",
   "metadata": {},
   "outputs": [],
   "source": [
    "# let's create a plotting function\n",
    "def plot_predictions(train_data= x_train,\n",
    "                    train_labels= y_train,\n",
    "                    test_data= x_test,\n",
    "                    test_labels= y_test,\n",
    "                    predictions= y_pred):\n",
    "    \"\"\"\n",
    "    Plots training data, test data and compares predictionsto ground truth labels\n",
    "    \"\"\"\n",
    "    plt.figure(figsize=(10,7))\n",
    "    \n",
    "    #plot the training data into blue\n",
    "    plt.scatter(train_data, train_labels, c='b', label= 'Training data')\n",
    "    \n",
    "    #plot the testing data in green\n",
    "    plt.scatter(test_data, test_labels, c='g', label= 'Testing data')\n",
    "    \n",
    "    #plot the model predictions in red\n",
    "    plt.scatter(test_data, predictions, c='r', label= 'Predictions')\n",
    "    \n",
    "    #show the legend\n",
    "    plt.legend();"
   ]
  },
  {
   "cell_type": "code",
   "execution_count": 69,
   "id": "70ed378a",
   "metadata": {},
   "outputs": [
    {
     "data": {
      "image/png": "[encoded data removed]",
      "text/plain": [
       "<Figure size 720x504 with 1 Axes>"
      ]
     },
     "metadata": {
      "needs_background": "light"
     },
     "output_type": "display_data"
    }
   ],
   "source": [
    "plot_predictions()"
   ]
  },
  {
   "cell_type": "markdown",
   "id": "f3f1edd1",
   "metadata": {},
   "source": [
    "### Evaluating our model's predictions with regression evaluation metrics\n",
    "Depending on the problem you're working on, there will be a different evaluation metrics ur model's perfomance.\n",
    "\n",
    "Since we're working on a regression, two of the main metrics are:\n",
    "* MAE - mean absolute error, 'on average, how wrong is each of my model's predictions'\n",
    "* MSE - mean square error, 'square rge average errors'"
   ]
  },
  {
   "cell_type": "code",
   "execution_count": 70,
   "id": "6b6bd37c",
   "metadata": {},
   "outputs": [
    {
     "name": "stdout",
     "output_type": "stream",
     "text": [
      "1/1 [==============================] - 0s 2ms/step - loss: 17.0619 - mae: 17.0619\n"
     ]
    },
    {
     "data": {
      "text/plain": [
       "[17.06192398071289, 17.06192398071289]"
      ]
     },
     "execution_count": 70,
     "metadata": {},
     "output_type": "execute_result"
    }
   ],
   "source": [
    "# Evaluate the model on the test test\n",
    "model.evaluate(x_test, y_test)"
   ]
  },
  {
   "cell_type": "code",
   "execution_count": 75,
   "id": "0c26720b",
   "metadata": {},
   "outputs": [
    {
     "data": {
      "text/plain": [
       "<tf.Tensor: shape=(10, 1), dtype=float32, numpy=\n",
       "array([[54.84395 ],\n",
       "       [58.42042 ],\n",
       "       [61.99689 ],\n",
       "       [65.57337 ],\n",
       "       [69.14983 ],\n",
       "       [72.72631 ],\n",
       "       [76.30279 ],\n",
       "       [79.879265],\n",
       "       [83.45574 ],\n",
       "       [87.032196]], dtype=float32)>"
      ]
     },
     "execution_count": 75,
     "metadata": {},
     "output_type": "execute_result"
    }
   ],
   "source": [
    "y_pred= tf.constant(y_pred)\n",
    "y_pred"
   ]
  },
  {
   "cell_type": "code",
   "execution_count": 72,
   "id": "375081bf",
   "metadata": {},
   "outputs": [
    {
     "data": {
      "text/plain": [
       "<tf.Tensor: shape=(10,), dtype=int32, numpy=array([ 70,  74,  78,  82,  86,  90,  94,  98, 102, 106])>"
      ]
     },
     "execution_count": 72,
     "metadata": {},
     "output_type": "execute_result"
    }
   ],
   "source": [
    "y_test"
   ]
  },
  {
   "cell_type": "code",
   "execution_count": 76,
   "id": "6dddbc47",
   "metadata": {},
   "outputs": [
    {
     "data": {
      "text/plain": [
       "<tf.Tensor: shape=(10,), dtype=float32, numpy=\n",
       "array([54.84395 , 58.42042 , 61.99689 , 65.57337 , 69.14983 , 72.72631 ,\n",
       "       76.30279 , 79.879265, 83.45574 , 87.032196], dtype=float32)>"
      ]
     },
     "execution_count": 76,
     "metadata": {},
     "output_type": "execute_result"
    }
   ],
   "source": [
    "#our y_test and y_pred aren't of the same shape, now let's squeeze the y_pred\n",
    "tf.squeeze(y_pred)"
   ]
  },
  {
   "cell_type": "code",
   "execution_count": 79,
   "id": "9a03a045",
   "metadata": {},
   "outputs": [
    {
     "data": {
      "text/plain": [
       "<tf.Tensor: shape=(), dtype=float32, numpy=17.061924>"
      ]
     },
     "execution_count": 79,
     "metadata": {},
     "output_type": "execute_result"
    }
   ],
   "source": [
    "#calculate the mean absolute error\n",
    "tf.metrics.mean_absolute_error(y_test, y_pred= tf.squeeze(y_pred))"
   ]
  },
  {
   "cell_type": "code",
   "execution_count": 78,
   "id": "2e744412",
   "metadata": {},
   "outputs": [
    {
     "data": {
      "text/plain": [
       "<tf.Tensor: shape=(10, 1), dtype=float32, numpy=\n",
       "array([[54.84395 ],\n",
       "       [58.42042 ],\n",
       "       [61.99689 ],\n",
       "       [65.57337 ],\n",
       "       [69.14983 ],\n",
       "       [72.72631 ],\n",
       "       [76.30279 ],\n",
       "       [79.879265],\n",
       "       [83.45574 ],\n",
       "       [87.032196]], dtype=float32)>"
      ]
     },
     "execution_count": 78,
     "metadata": {},
     "output_type": "execute_result"
    }
   ],
   "source": [
    "y_pred"
   ]
  },
  {
   "cell_type": "code",
   "execution_count": 80,
   "id": "d65f39ac",
   "metadata": {},
   "outputs": [
    {
     "data": {
      "text/plain": [
       "<tf.Tensor: shape=(), dtype=float32, numpy=292.58905>"
      ]
     },
     "execution_count": 80,
     "metadata": {},
     "output_type": "execute_result"
    }
   ],
   "source": [
    "# calculate the mean squared error\n",
    "tf.metrics.mean_squared_error(y_test, tf.squeeze(y_pred))"
   ]
  },
  {
   "cell_type": "code",
   "execution_count": 81,
   "id": "76aa9375",
   "metadata": {},
   "outputs": [],
   "source": [
    "#make some fnctions to reuse mae and mse\n",
    "\n",
    "def mae(y_true, y_pred):\n",
    "    return tf.metrics.mean_absolute_error(y_true= y_true,\n",
    "                                         y_pred= y_pred)\n",
    "\n",
    "def mse(y_true, y_pred):\n",
    "    return tf.metrics.mean_squared_error(y_true= y_true,\n",
    "                                        y_pred= y_pred)"
   ]
  },
  {
   "cell_type": "markdown",
   "id": "fadf12ab",
   "metadata": {},
   "source": [
    "### Running experiments to improve our Model\n",
    "\n",
    "1. Get more data - get more example for your model to train on (more opportunities to learn patterns or relationships btn features and labels)\n",
    "\n",
    "2. Make your model larger (using a more comolex model) - this might come in the form of more layers or more hidden units in each layer\n",
    "\n",
    "3. Train for longer - give your model more of a chance to find patterns in a data\n",
    "Let's do 3 modelling experiments\n",
    "\n",
    "1. `model_1` - smae as the og model, 1 layer trained for 100 epochs\n",
    "2. `model_2` - 2 layers, trained for 100 epochs\n",
    "3. `model_3` - 2 layers, trained for 500 epochs\n"
   ]
  },
  {
   "cell_type": "code",
   "execution_count": 94,
   "id": "088e5f24",
   "metadata": {},
   "outputs": [],
   "source": [
    "#set random seed\n",
    "tf.random.set_seed(42)\n",
    "\n",
    "# 1. Create the model\n",
    "model_1 = tf.keras.Sequential([\n",
    "    tf.keras.layers.Dense(1, name= 'input_layer', input_shape=[1])\n",
    "])\n",
    "\n",
    "# 2. compile the model\n",
    "model_1.compile(loss= tf.keras.losses.mae,\n",
    "               optimizer= tf.keras.optimizers.SGD(),\n",
    "               metrics= ['mae'])\n"
   ]
  },
  {
   "cell_type": "code",
   "execution_count": 95,
   "id": "c0864228",
   "metadata": {},
   "outputs": [
    {
     "name": "stdout",
     "output_type": "stream",
     "text": [
      "Model: \"sequential_6\"\n",
      "_________________________________________________________________\n",
      "Layer (type)                 Output Shape              Param #   \n",
      "=================================================================\n",
      "input_layer (Dense)          (None, 1)                 2         \n",
      "=================================================================\n",
      "Total params: 2\n",
      "Trainable params: 2\n",
      "Non-trainable params: 0\n",
      "_________________________________________________________________\n"
     ]
    }
   ],
   "source": [
    "model_1.summary()"
   ]
  },
  {
   "cell_type": "code",
   "execution_count": 96,
   "id": "80821c25",
   "metadata": {},
   "outputs": [
    {
     "name": "stdout",
     "output_type": "stream",
     "text": [
      "Epoch 1/100\n",
      "2/2 [==============================] - 0s 1ms/step - loss: 4.8840 - mae: 4.8840\n",
      "Epoch 2/100\n",
      "2/2 [==============================] - 0s 1ms/step - loss: 4.8446 - mae: 4.8446\n",
      "Epoch 3/100\n",
      "2/2 [==============================] - 0s 2ms/step - loss: 4.8438 - mae: 4.8438\n",
      "Epoch 4/100\n",
      "2/2 [==============================] - 0s 1ms/step - loss: 4.8268 - mae: 4.8268\n",
      "Epoch 5/100\n",
      "2/2 [==============================] - 0s 1ms/step - loss: 4.7838 - mae: 4.7838\n",
      "Epoch 6/100\n",
      "2/2 [==============================] - 0s 997us/step - loss: 4.7565 - mae: 4.7565\n",
      "Epoch 7/100\n",
      "2/2 [==============================] - 0s 2ms/step - loss: 4.7194 - mae: 4.7194\n",
      "Epoch 8/100\n",
      "2/2 [==============================] - 0s 996us/step - loss: 4.7196 - mae: 4.7196\n",
      "Epoch 9/100\n",
      "2/2 [==============================] - 0s 1ms/step - loss: 4.6857 - mae: 4.6857\n",
      "Epoch 10/100\n",
      "2/2 [==============================] - 0s 1ms/step - loss: 4.6227 - mae: 4.6227\n",
      "Epoch 11/100\n",
      "2/2 [==============================] - 0s 1ms/step - loss: 4.7290 - mae: 4.7290\n",
      "Epoch 12/100\n",
      "2/2 [==============================] - 0s 2ms/step - loss: 4.6582 - mae: 4.6582\n",
      "Epoch 13/100\n",
      "2/2 [==============================] - 0s 2ms/step - loss: 4.6010 - mae: 4.6010\n",
      "Epoch 14/100\n",
      "2/2 [==============================] - 0s 1ms/step - loss: 4.6329 - mae: 4.6329\n",
      "Epoch 15/100\n",
      "2/2 [==============================] - 0s 1ms/step - loss: 4.5734 - mae: 4.5734\n",
      "Epoch 16/100\n",
      "2/2 [==============================] - 0s 1ms/step - loss: 4.5306 - mae: 4.5306\n",
      "Epoch 17/100\n",
      "2/2 [==============================] - 0s 1ms/step - loss: 4.4880 - mae: 4.4880\n",
      "Epoch 18/100\n",
      "2/2 [==============================] - 0s 1ms/step - loss: 4.4623 - mae: 4.4623\n",
      "Epoch 19/100\n",
      "2/2 [==============================] - 0s 999us/step - loss: 4.4293 - mae: 4.4293\n",
      "Epoch 20/100\n",
      "2/2 [==============================] - 0s 2ms/step - loss: 4.4053 - mae: 4.4053\n",
      "Epoch 21/100\n",
      "2/2 [==============================] - 0s 2ms/step - loss: 4.3860 - mae: 4.3860\n",
      "Epoch 22/100\n",
      "2/2 [==============================] - 0s 1ms/step - loss: 4.3474 - mae: 4.3474\n",
      "Epoch 23/100\n",
      "2/2 [==============================] - 0s 1ms/step - loss: 4.3479 - mae: 4.3479\n",
      "Epoch 24/100\n",
      "2/2 [==============================] - 0s 2ms/step - loss: 4.3043 - mae: 4.3043\n",
      "Epoch 25/100\n",
      "2/2 [==============================] - 0s 1ms/step - loss: 4.2642 - mae: 4.2642\n",
      "Epoch 26/100\n",
      "2/2 [==============================] - 0s 1ms/step - loss: 4.2396 - mae: 4.2396\n",
      "Epoch 27/100\n",
      "2/2 [==============================] - 0s 2ms/step - loss: 4.2152 - mae: 4.2152\n",
      "Epoch 28/100\n",
      "2/2 [==============================] - 0s 2ms/step - loss: 4.1865 - mae: 4.1865\n",
      "Epoch 29/100\n",
      "2/2 [==============================] - 0s 1ms/step - loss: 4.1563 - mae: 4.1563\n",
      "Epoch 30/100\n",
      "2/2 [==============================] - 0s 2ms/step - loss: 4.1294 - mae: 4.1294\n",
      "Epoch 31/100\n",
      "2/2 [==============================] - 0s 2ms/step - loss: 4.1082 - mae: 4.1082\n",
      "Epoch 32/100\n",
      "2/2 [==============================] - 0s 1ms/step - loss: 4.0741 - mae: 4.0741\n",
      "Epoch 33/100\n",
      "2/2 [==============================] - 0s 3ms/step - loss: 4.0710 - mae: 4.0710\n",
      "Epoch 34/100\n",
      "2/2 [==============================] - 0s 998us/step - loss: 4.0496 - mae: 4.0496\n",
      "Epoch 35/100\n",
      "2/2 [==============================] - 0s 1ms/step - loss: 4.0243 - mae: 4.0243\n",
      "Epoch 36/100\n",
      "2/2 [==============================] - 0s 1ms/step - loss: 3.9912 - mae: 3.9912\n",
      "Epoch 37/100\n",
      "2/2 [==============================] - 0s 2ms/step - loss: 4.0028 - mae: 4.0028\n",
      "Epoch 38/100\n",
      "2/2 [==============================] - 0s 1ms/step - loss: 3.9590 - mae: 3.9590\n",
      "Epoch 39/100\n",
      "2/2 [==============================] - 0s 2ms/step - loss: 3.9076 - mae: 3.9076\n",
      "Epoch 40/100\n",
      "2/2 [==============================] - 0s 999us/step - loss: 3.8502 - mae: 3.8502\n",
      "Epoch 41/100\n",
      "2/2 [==============================] - 0s 2ms/step - loss: 3.8277 - mae: 3.8277\n",
      "Epoch 42/100\n",
      "2/2 [==============================] - 0s 998us/step - loss: 3.7932 - mae: 3.7932\n",
      "Epoch 43/100\n",
      "2/2 [==============================] - 0s 2ms/step - loss: 3.7606 - mae: 3.7606\n",
      "Epoch 44/100\n",
      "2/2 [==============================] - 0s 2ms/step - loss: 3.7296 - mae: 3.7296\n",
      "Epoch 45/100\n",
      "2/2 [==============================] - 0s 996us/step - loss: 3.6875 - mae: 3.6875\n",
      "Epoch 46/100\n",
      "2/2 [==============================] - 0s 2ms/step - loss: 3.7394 - mae: 3.7394\n",
      "Epoch 47/100\n",
      "2/2 [==============================] - 0s 996us/step - loss: 3.7920 - mae: 3.7920\n",
      "Epoch 48/100\n",
      "2/2 [==============================] - 0s 1ms/step - loss: 3.7328 - mae: 3.7328\n",
      "Epoch 49/100\n",
      "2/2 [==============================] - 0s 2ms/step - loss: 3.6160 - mae: 3.6160\n",
      "Epoch 50/100\n",
      "2/2 [==============================] - 0s 1ms/step - loss: 3.5313 - mae: 3.5313\n",
      "Epoch 51/100\n",
      "2/2 [==============================] - 0s 2ms/step - loss: 3.4973 - mae: 3.4973\n",
      "Epoch 52/100\n",
      "2/2 [==============================] - 0s 996us/step - loss: 3.4740 - mae: 3.4740\n",
      "Epoch 53/100\n",
      "2/2 [==============================] - 0s 2ms/step - loss: 3.4160 - mae: 3.4160\n",
      "Epoch 54/100\n",
      "2/2 [==============================] - 0s 1ms/step - loss: 3.4529 - mae: 3.4529\n",
      "Epoch 55/100\n",
      "2/2 [==============================] - 0s 1ms/step - loss: 3.4010 - mae: 3.4010\n",
      "Epoch 56/100\n",
      "2/2 [==============================] - 0s 1ms/step - loss: 3.3151 - mae: 3.3151\n",
      "Epoch 57/100\n",
      "2/2 [==============================] - 0s 997us/step - loss: 3.3533 - mae: 3.3533\n",
      "Epoch 58/100\n",
      "2/2 [==============================] - 0s 2ms/step - loss: 3.2633 - mae: 3.2633\n",
      "Epoch 59/100\n",
      "2/2 [==============================] - 0s 999us/step - loss: 3.2176 - mae: 3.2176\n",
      "Epoch 60/100\n",
      "2/2 [==============================] - 0s 2ms/step - loss: 3.2375 - mae: 3.2375\n",
      "Epoch 61/100\n",
      "2/2 [==============================] - 0s 1ms/step - loss: 3.1875 - mae: 3.1875\n",
      "Epoch 62/100\n",
      "2/2 [==============================] - 0s 2ms/step - loss: 3.1017 - mae: 3.1017\n",
      "Epoch 63/100\n",
      "2/2 [==============================] - 0s 996us/step - loss: 3.0848 - mae: 3.0848\n",
      "Epoch 64/100\n",
      "2/2 [==============================] - 0s 997us/step - loss: 3.0527 - mae: 3.0527\n",
      "Epoch 65/100\n",
      "2/2 [==============================] - 0s 999us/step - loss: 3.0229 - mae: 3.0229\n",
      "Epoch 66/100\n",
      "2/2 [==============================] - 0s 2ms/step - loss: 2.9514 - mae: 2.9514\n",
      "Epoch 67/100\n",
      "2/2 [==============================] - 0s 2ms/step - loss: 2.9066 - mae: 2.9066\n",
      "Epoch 68/100\n",
      "2/2 [==============================] - 0s 2ms/step - loss: 2.8602 - mae: 2.8602\n",
      "Epoch 69/100\n",
      "2/2 [==============================] - 0s 2ms/step - loss: 2.8415 - mae: 2.8415\n",
      "Epoch 70/100\n",
      "2/2 [==============================] - 0s 1ms/step - loss: 2.8077 - mae: 2.8077\n",
      "Epoch 71/100\n",
      "2/2 [==============================] - 0s 2ms/step - loss: 2.7330 - mae: 2.7330\n",
      "Epoch 72/100\n",
      "2/2 [==============================] - 0s 1ms/step - loss: 2.8052 - mae: 2.8052\n",
      "Epoch 73/100\n",
      "2/2 [==============================] - 0s 3ms/step - loss: 2.6966 - mae: 2.6966\n",
      "Epoch 74/100\n",
      "2/2 [==============================] - 0s 1ms/step - loss: 2.6578 - mae: 2.6578\n",
      "Epoch 75/100\n",
      "2/2 [==============================] - 0s 997us/step - loss: 2.5735 - mae: 2.5735\n",
      "Epoch 76/100\n",
      "2/2 [==============================] - 0s 2ms/step - loss: 2.5150 - mae: 2.5150\n",
      "Epoch 77/100\n",
      "2/2 [==============================] - 0s 2ms/step - loss: 2.4630 - mae: 2.4630\n",
      "Epoch 78/100\n",
      "2/2 [==============================] - 0s 2ms/step - loss: 2.4541 - mae: 2.4541\n",
      "Epoch 79/100\n",
      "2/2 [==============================] - 0s 2ms/step - loss: 2.3600 - mae: 2.3600\n",
      "Epoch 80/100\n",
      "2/2 [==============================] - 0s 2ms/step - loss: 2.3873 - mae: 2.3873\n",
      "Epoch 81/100\n",
      "2/2 [==============================] - 0s 2ms/step - loss: 2.2831 - mae: 2.2831\n",
      "Epoch 82/100\n",
      "2/2 [==============================] - 0s 1ms/step - loss: 2.2752 - mae: 2.2752\n",
      "Epoch 83/100\n",
      "2/2 [==============================] - 0s 996us/step - loss: 2.2192 - mae: 2.2192\n",
      "Epoch 84/100\n",
      "2/2 [==============================] - 0s 2ms/step - loss: 2.1396 - mae: 2.1396\n",
      "Epoch 85/100\n",
      "2/2 [==============================] - 0s 1ms/step - loss: 2.1157 - mae: 2.1157\n",
      "Epoch 86/100\n",
      "2/2 [==============================] - 0s 996us/step - loss: 2.0658 - mae: 2.0658\n",
      "Epoch 87/100\n",
      "2/2 [==============================] - 0s 1ms/step - loss: 1.9396 - mae: 1.9396\n",
      "Epoch 88/100\n"
     ]
    },
    {
     "name": "stdout",
     "output_type": "stream",
     "text": [
      "2/2 [==============================] - 0s 1ms/step - loss: 2.1934 - mae: 2.1934\n",
      "Epoch 89/100\n",
      "2/2 [==============================] - 0s 2ms/step - loss: 2.2781 - mae: 2.2781\n",
      "Epoch 90/100\n",
      "2/2 [==============================] - 0s 2ms/step - loss: 1.9266 - mae: 1.9266\n",
      "Epoch 91/100\n",
      "2/2 [==============================] - 0s 1ms/step - loss: 2.1946 - mae: 2.1946\n",
      "Epoch 92/100\n",
      "2/2 [==============================] - 0s 2ms/step - loss: 2.1618 - mae: 2.1618\n",
      "Epoch 93/100\n",
      "2/2 [==============================] - 0s 1ms/step - loss: 1.7437 - mae: 1.7437\n",
      "Epoch 94/100\n",
      "2/2 [==============================] - 0s 1ms/step - loss: 2.0191 - mae: 2.0191\n",
      "Epoch 95/100\n",
      "2/2 [==============================] - 0s 2ms/step - loss: 1.8403 - mae: 1.8403\n",
      "Epoch 96/100\n",
      "2/2 [==============================] - 0s 1ms/step - loss: 1.6076 - mae: 1.6076\n",
      "Epoch 97/100\n",
      "2/2 [==============================] - 0s 2ms/step - loss: 1.5674 - mae: 1.5674\n",
      "Epoch 98/100\n",
      "2/2 [==============================] - 0s 1ms/step - loss: 1.5167 - mae: 1.5167\n",
      "Epoch 99/100\n",
      "2/2 [==============================] - 0s 1ms/step - loss: 1.5175 - mae: 1.5175\n",
      "Epoch 100/100\n",
      "2/2 [==============================] - 0s 1ms/step - loss: 1.3130 - mae: 1.3130\n"
     ]
    },
    {
     "data": {
      "text/plain": [
       "<tensorflow.python.keras.callbacks.History at 0x1c030d30ee0>"
      ]
     },
     "execution_count": 96,
     "metadata": {},
     "output_type": "execute_result"
    }
   ],
   "source": [
    "model.fit(x_train, y_train, epochs= 100)"
   ]
  },
  {
   "cell_type": "code",
   "execution_count": 97,
   "id": "eba382a8",
   "metadata": {},
   "outputs": [
    {
     "data": {
      "image/png": "[encoded data removed]",
      "text/plain": [
       "<Figure size 720x504 with 1 Axes>"
      ]
     },
     "metadata": {
      "needs_background": "light"
     },
     "output_type": "display_data"
    }
   ],
   "source": [
    "# make and plot predictions for model_1\n",
    "y_pred1 = model_1.predict(x_test)\n",
    "plot_predictions(predictions= y_pred1)"
   ]
  },
  {
   "cell_type": "code",
   "execution_count": 98,
   "id": "60ecc50a",
   "metadata": {},
   "outputs": [
    {
     "data": {
      "text/plain": [
       "(<tf.Tensor: shape=(), dtype=float32, numpy=43.535328>,\n",
       " <tf.Tensor: shape=(), dtype=float32, numpy=1919.7249>)"
      ]
     },
     "execution_count": 98,
     "metadata": {},
     "output_type": "execute_result"
    }
   ],
   "source": [
    "# create model_1 evaluation metrics\n",
    "mae_1 = mae(y_test, tf.squeeze(y_pred1))\n",
    "mse_1 = mse(y_test, tf.squeeze(y_pred1))\n",
    "mae_1, mse_1"
   ]
  },
  {
   "cell_type": "code",
   "execution_count": null,
   "id": "640f1bbf",
   "metadata": {},
   "outputs": [],
   "source": []
  }
 ],
 "metadata": {
  "kernelspec": {
   "display_name": "Python 3",
   "language": "python",
   "name": "python3"
  },
  "language_info": {
   "codemirror_mode": {
    "name": "ipython",
    "version": 3
   },
   "file_extension": ".py",
   "mimetype": "text/x-python",
   "name": "python",
   "nbconvert_exporter": "python",
   "pygments_lexer": "ipython3",
   "version": "3.8.10"
  }
 },
 "nbformat": 4,
 "nbformat_minor": 5
}
