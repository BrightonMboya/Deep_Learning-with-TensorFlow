{
  "nbformat": 4,
  "nbformat_minor": 0,
  "metadata": {
    "colab": {
      "name": "Convolutional Neural Networks",
      "provenance": [],
      "collapsed_sections": [],
      "authorship_tag": "ABX9TyPo9WkCUQgyHpMHxakVaVvX",
      "include_colab_link": true
    },
    "kernelspec": {
      "name": "python3",
      "display_name": "Python 3"
    },
    "language_info": {
      "name": "python"
    }
  },
  "cells": [
    {
      "cell_type": "markdown",
      "metadata": {
        "id": "view-in-github",
        "colab_type": "text"
      },
      "source": [
        "<a href=\"https://colab.research.google.com/github/BrightonMboya/Deep_Learning-with-TensorFlow/blob/CNNs/Convolutional_Neural_Networks.ipynb\" target=\"_parent\"><img src=\"https://colab.research.google.com/assets/colab-badge.svg\" alt=\"Open In Colab\"/></a>"
      ]
    },
    {
      "cell_type": "code",
      "metadata": {
        "id": "vB8Bzi_WnFdD"
      },
      "source": [
        ""
      ],
      "execution_count": null,
      "outputs": []
    },
    {
      "cell_type": "markdown",
      "metadata": {
        "id": "As1od_ACnaLy"
      },
      "source": [
        "What we're going to cover\n",
        "<br>\n",
        "Specifically, we're going to go through the follow with TensorFlow:\n",
        "\n",
        "<br>\n",
        "Getting a dataset to work with\n",
        "<br>\n",
        "Architecture of a convolutional neural network\n",
        "<br>\n",
        "A quick end-to-end example (what we're working towards)\n",
        "<br>\n",
        "Steps in modelling for binary image classification with CNNs\n",
        "<br>\n",
        "Becoming one with the data\n",
        "<br>\n",
        "Preparing data for modelling\n",
        "<br>\n",
        "Creating a CNN model (starting with a baseline)\n",
        "<br>\n",
        "Fitting a model (getting it to find patterns in our data)\n",
        "<br>\n",
        "Evaluating a model\n",
        "<br>\n",
        "Improving a model\n",
        "<br>\n",
        "Making a prediction with a trained model\n",
        "<br>\n",
        "Steps in modelling for multi-class image classification with CNNs\n",
        "<br>\n",
        "Same as above (but this time with a different dataset)"
      ]
    },
    {
      "cell_type": "markdown",
      "metadata": {
        "id": "zUVP33DanepJ"
      },
      "source": [
        ""
      ]
    },
    {
      "cell_type": "markdown",
      "metadata": {
        "id": "RDE0DDLRnv-H"
      },
      "source": [
        "## Get the data\n",
        "Because convolutional neural networks work so well with images, to learn more about them, we're going to start with a dataset of images.\n",
        "\n",
        "The images we're going to work with are from the Food-101 dataset, a collection of 101 different categories of 101,000 (1000 images per category) real-world images of food dishes.\n",
        "\n",
        "To begin, we're only going to use two of the categories, pizza 🍕 and steak 🥩 and build a binary classifier.\n",
        "\n",
        "🔑 Note: To prepare the data we're using, preprocessing steps such as, moving the images into different subset folders, have been done. To see these preprocessing steps check out the preprocessing notebook."
      ]
    },
    {
      "cell_type": "code",
      "metadata": {
        "colab": {
          "base_uri": "https://localhost:8080/"
        },
        "id": "x78YlFOUnb-q",
        "outputId": "eed71c27-b3d0-4dd7-eb46-71d20c5b5deb"
      },
      "source": [
        "import zipfile \n",
        "\n",
        "#get the data from the web\n",
        "!wget https://storage.googleapis.com/ztm_tf_course/food_vision/pizza_steak.zip\n",
        "\n",
        "zip_ref= zipfile.ZipFile('pizza_steak.zip', 'r')\n",
        "zip_ref.extractall()\n",
        "zip_ref.close()"
      ],
      "execution_count": 3,
      "outputs": [
        {
          "output_type": "stream",
          "text": [
            "--2021-08-09 20:33:57--  https://storage.googleapis.com/ztm_tf_course/food_vision/pizza_steak.zip\n",
            "Resolving storage.googleapis.com (storage.googleapis.com)... 74.125.135.128, 74.125.142.128, 74.125.195.128, ...\n",
            "Connecting to storage.googleapis.com (storage.googleapis.com)|74.125.135.128|:443... connected.\n",
            "HTTP request sent, awaiting response... 200 OK\n",
            "Length: 109579078 (105M) [application/zip]\n",
            "Saving to: ‘pizza_steak.zip’\n",
            "\n",
            "pizza_steak.zip     100%[===================>] 104.50M   170MB/s    in 0.6s    \n",
            "\n",
            "2021-08-09 20:33:58 (170 MB/s) - ‘pizza_steak.zip’ saved [109579078/109579078]\n",
            "\n"
          ],
          "name": "stdout"
        }
      ]
    },
    {
      "cell_type": "code",
      "metadata": {
        "id": "TtrjJmarnzZ5"
      },
      "source": [
        ""
      ],
      "execution_count": null,
      "outputs": []
    }
  ]
}